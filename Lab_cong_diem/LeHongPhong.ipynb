{
 "cells": [
  {
   "cell_type": "markdown",
   "metadata": {},
   "source": [
    "# LAB ĐIỂM CỘNG\n"
   ]
  },
  {
   "cell_type": "markdown",
   "metadata": {},
   "source": [
    "## Python (15)"
   ]
  },
  {
   "cell_type": "markdown",
   "metadata": {},
   "source": [
    "### Q1 (1)\n",
    "Rename this file as `{fullname}.ipynb`."
   ]
  },
  {
   "cell_type": "markdown",
   "metadata": {},
   "source": [
    "### Q2 (1)\n",
    "Create variable name `my_name` as string and assign your name to this variable.\n",
    "Print the `my_name`."
   ]
  },
  {
   "cell_type": "code",
   "execution_count": 2,
   "metadata": {},
   "outputs": [
    {
     "name": "stdout",
     "output_type": "stream",
     "text": [
      "Le Hong Phong\n"
     ]
    }
   ],
   "source": [
    "# Your code here\n",
    "my_name = \"Le Hong Phong\"\n",
    "print(my_name)\n"
   ]
  },
  {
   "cell_type": "markdown",
   "metadata": {},
   "source": [
    "### Q3 (2)\n",
    "Develop class `CPStudent` with the following attributes\n",
    "\n",
    "- `student_id`:str -> vlu student id that start with `st`\n",
    "- `name`:str -> Name of the associated student\n",
    "- `score`:float -> Score of the midterm exam. The range is `[0.0, 100.0]`\n",
    "\n",
    "During the object creation, assign `student_id` and `name`. The `score` is set as `0.0` by default.\n",
    "\n",
    "`s1 = DAstudent('207CT20000', 'Mr. Jo')`"
   ]
  },
  {
   "cell_type": "code",
   "execution_count": 10,
   "metadata": {},
   "outputs": [
    {
     "name": "stdout",
     "output_type": "stream",
     "text": [
      "Student ID: st2174802010380, Name: Hong Phong, Score: 0.0\n"
     ]
    }
   ],
   "source": [
    "class CPStudent:\n",
    "    def __init__(self, student_id: str, name: str, score: float = 0.0):\n",
    "        if not student_id.startswith('st'):\n",
    "            raise ValueError(\"student_id must start with 'st'\")\n",
    "        self.student_id = student_id\n",
    "        self.name = name\n",
    "        self.score = score\n",
    "\n",
    "try:\n",
    "    s1 = CPStudent('st2174802010380', 'Hong Phong')\n",
    "    print(f\"Student ID: {s1.student_id}, Name: {s1.name}, Score: {s1.score}\")\n",
    "except ValueError as e:\n",
    "    print(e)\n"
   ]
  },
  {
   "cell_type": "markdown",
   "metadata": {},
   "source": [
    "### Q4 (2)\n",
    "\n",
    "Modify the class `DAStudent` to have function `LAB that takes `float` as the input.\n",
    "This function will assign the input to `DAStudent.score`.\n",
    "\n",
    "Example\n",
    "\n",
    "```python\n",
    "s1.lab(50.5)\n",
    "print(s1.score)\n",
    ">>> 50.5\n",
    "```\n",
    "\n",
    "### Q5 (3)\n",
    "\n",
    "Check the correctness of the input. Inform the user when the input is wrong.\n",
    "\n",
    "*Hint: You will only get full mark if you use `raise`.*\n",
    "\n",
    "Example 1:\n",
    "\n",
    "```python\n",
    "s1.lab(150)\n",
    ">>> ValueError: Some message\n",
    "```\n",
    "\n",
    "Example 2:\n",
    "\n",
    "```python\n",
    "s1.lab('150')\n",
    ">>> ValueError: Some message\n",
    "```"
   ]
  },
  {
   "cell_type": "code",
   "execution_count": 12,
   "metadata": {},
   "outputs": [
    {
     "name": "stdout",
     "output_type": "stream",
     "text": [
      "50.5\n",
      "Score must be a number.\n",
      "Score must be a number.\n"
     ]
    }
   ],
   "source": [
    "class DAStudent:\n",
    "    def __init__(self, name):\n",
    "        self.name = name\n",
    "        self.score = None\n",
    "\n",
    "    def LAB(self, score):\n",
    "        if not isinstance(score, float):\n",
    "            raise ValueError(\"Score must be a number.\")\n",
    "        if score < 0 or score > 100:\n",
    "            raise ValueError(\"Score must be between 0 and 100.\")\n",
    "        self.score = score\n",
    "\n",
    "\n",
    "s1 = DAStudent(\"Le Hong Phong\")\n",
    "s1.LAB(50.5)\n",
    "print(s1.score)\n",
    "\n",
    "try:\n",
    "    s1.LAB(150)\n",
    "except ValueError as e:\n",
    "    print(e)\n",
    "\n",
    "try:\n",
    "    s1.LAB(\"150\")\n",
    "except ValueError as e:\n",
    "    print(e) \n"
   ]
  },
  {
   "cell_type": "markdown",
   "metadata": {},
   "source": [
    "### Q6 (6)\n",
    "\n",
    "Once upon a time in the magical land, there are two engineer beavers living together. \n",
    "\n",
    "\n",
    "Their hobby is to build a dam out of wood.\n",
    "\n",
    "\n",
    "Years and years, dam after another dam, one of engineer beaver get bored. The beaver wants a better life. A more accurate calculation of dam not just keep building it anymore.\n",
    "\n",
    "\n",
    "Now, they are deploying a rain sensor to collect data which will be used to predict water level of the river.\n",
    "\n",
    "Finally, with their new skill set and hardworking, a predictor is obtained. They named their invention `The Oracle of the Dam (TOTD)`.\n",
    "\n",
    "However, the `TOTD` only predicts the water level. \n",
    "\n",
    "The engineer/data scientist beavers still needs to build the dam themselves but this time, it will be the most efficient dam of the beaver land ever.\n",
    "\n",
    "Every 2 meters of the water level, the dam needs to be build 1 level higher. And every log (*) uses will cost $3.5.\n",
    "\n",
    "Here is how the 3-level dam look like from the cross section view\n",
    "\n",
    "```\n",
    "l_3   *\n",
    "l_2  ***\n",
    "l_1 *****\n",
    "```\n",
    "\n",
    "Here is how much this project will cost\n",
    "\n",
    "```\n",
    "Number of logs: 9\n",
    "Cost: $31.5\n",
    "```\n",
    "\n",
    "\n",
    "Your task is simple, write a function `dam_design` that takes `water_level` as an input. Print the design of the dam and summarize the material and cost.\n",
    "\n",
    "Example 1:\n",
    "```python\n",
    "dam_design(0)\n",
    ">>> *\n",
    ">>> Number of logs: 1\n",
    ">>> Cost: $3.5\n",
    "```\n",
    "\n",
    "Example 2:\n",
    "```python\n",
    "dam_design(1)\n",
    ">>> *\n",
    ">>> Number of logs: 1\n",
    ">>> Cost: $3.5\n",
    "```\n",
    "\n",
    "Example 3:\n",
    "```python\n",
    "dam_design(2)\n",
    ">>>  *\n",
    ">>> ***\n",
    ">>> Number of logs: 4\n",
    ">>> Cost: $14.0\n",
    "```\n",
    "\n",
    "Example 4:\n",
    "```python\n",
    "dam_design(3)\n",
    ">>>  *\n",
    ">>> ***\n",
    ">>> Number of logs: 4\n",
    ">>> Cost: $14.0\n",
    "```\n",
    "\n",
    "Example 5:\n",
    "```python\n",
    "dam_design(4)\n",
    ">>>   *\n",
    ">>>  ***\n",
    ">>> *****\n",
    ">>> Number of logs: 9\n",
    ">>> Cost: $31.5\n",
    "```"
   ]
  },
  {
   "cell_type": "code",
   "execution_count": null,
   "metadata": {},
   "outputs": [],
   "source": []
  }
 ],
 "metadata": {
  "kernelspec": {
   "display_name": "Python 3.10.4 64-bit",
   "language": "python",
   "name": "python3"
  },
  "language_info": {
   "codemirror_mode": {
    "name": "ipython",
    "version": 3
   },
   "file_extension": ".py",
   "mimetype": "text/x-python",
   "name": "python",
   "nbconvert_exporter": "python",
   "pygments_lexer": "ipython3",
   "version": "3.9.7"
  },
  "orig_nbformat": 4,
  "vscode": {
   "interpreter": {
    "hash": "916dbcbb3f70747c44a77c7bcd40155683ae19c65e1c03b4aa3499c5328201f1"
   }
  }
 },
 "nbformat": 4,
 "nbformat_minor": 2
}
