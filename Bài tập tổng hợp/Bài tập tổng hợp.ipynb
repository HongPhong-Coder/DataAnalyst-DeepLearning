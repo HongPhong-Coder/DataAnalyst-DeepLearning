{
 "cells": [
  {
   "cell_type": "markdown",
   "metadata": {},
   "source": [
    "LAB 5: BÀI TẬP TỔNG HỢP"
   ]
  },
  {
   "cell_type": "markdown",
   "metadata": {},
   "source": [
    "1.Mô tả dữ liệu bằng các giá trị số:"
   ]
  },
  {
   "cell_type": "code",
   "execution_count": 425,
   "metadata": {},
   "outputs": [],
   "source": [
    "import numpy as np\n",
    "import pandas as pd\n",
    "import matplotlib.pyplot as plt\n",
    "import seaborn as sns\n",
    "import scipy.stats as stats\n",
    "from scipy.stats import skew, kurtosis"
   ]
  },
  {
   "cell_type": "markdown",
   "metadata": {},
   "source": [
    "Bước 1: Tính các đại lượng thống kê cho hai tập dữ liệu"
   ]
  },
  {
   "cell_type": "code",
   "execution_count": 426,
   "metadata": {},
   "outputs": [
    {
     "data": {
      "text/html": [
       "<div>\n",
       "<style scoped>\n",
       "    .dataframe tbody tr th:only-of-type {\n",
       "        vertical-align: middle;\n",
       "    }\n",
       "\n",
       "    .dataframe tbody tr th {\n",
       "        vertical-align: top;\n",
       "    }\n",
       "\n",
       "    .dataframe thead th {\n",
       "        text-align: right;\n",
       "    }\n",
       "</style>\n",
       "<table border=\"1\" class=\"dataframe\">\n",
       "  <thead>\n",
       "    <tr style=\"text-align: right;\">\n",
       "      <th></th>\n",
       "      <th>bwt</th>\n",
       "      <th>smoke</th>\n",
       "    </tr>\n",
       "  </thead>\n",
       "  <tbody>\n",
       "    <tr>\n",
       "      <th>0</th>\n",
       "      <td>120</td>\n",
       "      <td>0</td>\n",
       "    </tr>\n",
       "    <tr>\n",
       "      <th>1</th>\n",
       "      <td>113</td>\n",
       "      <td>0</td>\n",
       "    </tr>\n",
       "    <tr>\n",
       "      <th>2</th>\n",
       "      <td>128</td>\n",
       "      <td>1</td>\n",
       "    </tr>\n",
       "    <tr>\n",
       "      <th>3</th>\n",
       "      <td>123</td>\n",
       "      <td>0</td>\n",
       "    </tr>\n",
       "    <tr>\n",
       "      <th>4</th>\n",
       "      <td>108</td>\n",
       "      <td>1</td>\n",
       "    </tr>\n",
       "    <tr>\n",
       "      <th>5</th>\n",
       "      <td>136</td>\n",
       "      <td>0</td>\n",
       "    </tr>\n",
       "    <tr>\n",
       "      <th>6</th>\n",
       "      <td>138</td>\n",
       "      <td>0</td>\n",
       "    </tr>\n",
       "    <tr>\n",
       "      <th>7</th>\n",
       "      <td>132</td>\n",
       "      <td>0</td>\n",
       "    </tr>\n",
       "    <tr>\n",
       "      <th>8</th>\n",
       "      <td>120</td>\n",
       "      <td>0</td>\n",
       "    </tr>\n",
       "    <tr>\n",
       "      <th>9</th>\n",
       "      <td>143</td>\n",
       "      <td>1</td>\n",
       "    </tr>\n",
       "  </tbody>\n",
       "</table>\n",
       "</div>"
      ],
      "text/plain": [
       "   bwt  smoke\n",
       "0  120      0\n",
       "1  113      0\n",
       "2  128      1\n",
       "3  123      0\n",
       "4  108      1\n",
       "5  136      0\n",
       "6  138      0\n",
       "7  132      0\n",
       "8  120      0\n",
       "9  143      1"
      ]
     },
     "execution_count": 426,
     "metadata": {},
     "output_type": "execute_result"
    }
   ],
   "source": [
    "# Đọc file dữ liệu\n",
    "file_path = r'D:\\DataAnalyst\\Bài tập tổng hợp\\babies.txt'\n",
    "data = pd.read_csv(file_path, delim_whitespace=True)\n",
    "data.to_csv('babies.csv')\n",
    "data.head(10)"
   ]
  },
  {
   "cell_type": "markdown",
   "metadata": {},
   "source": [
    "- Sử dụng hàm \"to_csv()\" để chuyển file dữ liệu từ txt thành csv.\n",
    "- Sử dụng phương thức \"delim_whitespace=True\" khi các giá trị trong tệp CSV của bạn được phân tách bằng khoảng trắng thay vì dấu phẩy hoặc các ký tự khác."
   ]
  },
  {
   "cell_type": "code",
   "execution_count": 427,
   "metadata": {},
   "outputs": [],
   "source": [
    "# Tạo 2 biến khai báo dữ liệu\n",
    "smoke_data = data[data['smoke'] == 1]['bwt']\n",
    "no_smoke_data = data[data['smoke'] == 0]['bwt']"
   ]
  },
  {
   "cell_type": "markdown",
   "metadata": {},
   "source": [
    "- 1: Có hút thuốc\n",
    "- 0: Không hút thuốc"
   ]
  },
  {
   "cell_type": "code",
   "execution_count": 428,
   "metadata": {},
   "outputs": [
    {
     "name": "stdout",
     "output_type": "stream",
     "text": [
      "              TH1: Bà mẹ hút thuốc  TH2: Bà mẹ không hút thuốc\n",
      "Count                       484.00                      742.00\n",
      "Min                          58.00                       55.00\n",
      "Max                         163.00                      176.00\n",
      "Mean                        114.00                      123.00\n",
      "Std                          18.00                       17.00\n",
      "Var                         328.00                      303.00\n",
      "Median                      115.00                      123.00\n",
      "Quantile 0%                  58.00                       55.00\n",
      "Quantile 25%                102.00                      113.00\n",
      "Quantile 50%                115.00                      123.00\n",
      "Quantile 75%                126.00                      134.00\n",
      "IQR                          24.00                       21.00\n",
      "Skewness                     -0.03                       -0.19\n",
      "Kurtosis                     -0.01                        1.04\n"
     ]
    }
   ],
   "source": [
    "# Viết hàm tính toán\n",
    "def calculate_statistics(data):\n",
    "    statistics = {\n",
    "        'Count': len(data),\n",
    "        'Min': int(data.min()),\n",
    "        'Max': int(data.max()),\n",
    "        'Mean': round(data.mean()),\n",
    "        'Std': round(data.std()),\n",
    "        'Var': round(data.var()),\n",
    "        'Median': int(data.median()),\n",
    "        'Quantile 0%': int(data.quantile(0)),\n",
    "        'Quantile 25%': int(data.quantile(0.25)),\n",
    "        'Quantile 50%': int(data.quantile(0.5)),\n",
    "        'Quantile 75%': int(data.quantile(0.75)),\n",
    "        'IQR': int(data.quantile(0.75) - data.quantile(0.25)),\n",
    "        'Skewness': round(skew(data), 2),\n",
    "        'Kurtosis': round(kurtosis(data), 2)\n",
    "    }\n",
    "    return statistics\n",
    "\n",
    "smoke_stats = calculate_statistics(smoke_data)\n",
    "no_smoke_stats = calculate_statistics(no_smoke_data)\n",
    "\n",
    "stats_df = pd.DataFrame({\n",
    "    'TH1: Bà mẹ hút thuốc': smoke_stats,\n",
    "    'TH2: Bà mẹ không hút thuốc': no_smoke_stats\n",
    "})\n",
    "\n",
    "print(stats_df)\n"
   ]
  },
  {
   "cell_type": "markdown",
   "metadata": {},
   "source": [
    "Bước 2: Phân tích dữ liệu dựa trên các đại lượng vừa tính."
   ]
  },
  {
   "cell_type": "markdown",
   "metadata": {},
   "source": [
    "2. Xét tập dữ liệu ứng với trƣờng hợp bà mẹ không hút thuốc"
   ]
  },
  {
   "cell_type": "code",
   "execution_count": 429,
   "metadata": {},
   "outputs": [
    {
     "name": "stdout",
     "output_type": "stream",
     "text": [
      "\n",
      "Analysis for mothers who do not smoke:\n",
      "Count: 742\n",
      "Min: 55\n",
      "Max: 176\n",
      "Mean: 123\n",
      "Std: 17\n",
      "Var: 303\n",
      "Median: 123\n",
      "Quantile 0%: 55\n",
      "Quantile 25%: 113\n",
      "Quantile 50%: 123\n",
      "Quantile 75%: 134\n",
      "IQR: 21\n",
      "Skewness: -0.19\n",
      "Kurtosis: 1.04\n",
      "\n",
      "Interpretation:\n",
      "- Vị trí tập trung của dữ liệu: khoảng giá trị: 123\n",
      "- Tính biến động của dữ liệu:\n",
      "+, Phương sai (variance): 303\n",
      "+, Độ lệch chuẩn (standard deviation): 17\n",
      "+, Khoảng giá trị: min=55, max=176 -> range=121\n",
      "+, Khoảng cách giữa 2 phần tƣ vị: IQR=Q3-Q1=134-113=21\n",
      "=> Nhận xét: Như vậy dữ liệu phân bố gần nhau.\n",
      "- Hình dạng phân bố của dữ liệu:\n",
      "+, Độ lệch: Skewness=-0.19\n",
      "+, Độ bè nhọn của đỉnh dữ liệu: Kurtosis=1.04\n",
      "=> Nhận xét: Nhƣ vậy dữ liệu hơi lệch về phía trái, và đỉnh nhọn, hai bên giảm với tốc độ vừa phải.\n"
     ]
    }
   ],
   "source": [
    "print(\"\\nAnalysis for mothers who do not smoke:\")\n",
    "print(f\"Count: {no_smoke_stats['Count']}\")\n",
    "print(f\"Min: {no_smoke_stats['Min']}\")\n",
    "print(f\"Max: {no_smoke_stats['Max']}\")\n",
    "print(f\"Mean: {no_smoke_stats['Mean']}\")\n",
    "print(f\"Std: {no_smoke_stats['Std']}\")\n",
    "print(f\"Var: {no_smoke_stats['Var']}\")\n",
    "print(f\"Median: {no_smoke_stats['Median']}\")\n",
    "print(f\"Quantile 0%: {no_smoke_stats['Quantile 0%']}\")\n",
    "print(f\"Quantile 25%: {no_smoke_stats['Quantile 25%']}\")\n",
    "print(f\"Quantile 50%: {no_smoke_stats['Quantile 50%']}\")\n",
    "print(f\"Quantile 75%: {no_smoke_stats['Quantile 75%']}\")\n",
    "print(f\"IQR: {no_smoke_stats['IQR']}\")\n",
    "print(f\"Skewness: {no_smoke_stats['Skewness']}\")\n",
    "print(f\"Kurtosis: {no_smoke_stats['Kurtosis']}\")\n",
    "\n",
    "# Interpretations:\n",
    "print(\"\\nInterpretation:\")\n",
    "print(\"- Vị trí tập trung của dữ liệu: khoảng giá trị: 123\")\n",
    "print(\"- Tính biến động của dữ liệu:\")\n",
    "print(f\"+, Phương sai (variance): {no_smoke_stats['Var']}\")\n",
    "print(f\"+, Độ lệch chuẩn (standard deviation): {no_smoke_stats['Std']}\")\n",
    "print(f\"+, Khoảng giá trị: min={no_smoke_stats['Min']}, max={no_smoke_stats['Max']} -> range={no_smoke_stats['Max'] - no_smoke_stats['Min']}\")\n",
    "print(f\"+, Khoảng cách giữa 2 phần tƣ vị: IQR=Q3-Q1={no_smoke_stats['Quantile 75%']}-{no_smoke_stats['Quantile 25%']}={no_smoke_stats['IQR']}\")\n",
    "print(\"=> Nhận xét: Như vậy dữ liệu phân bố gần nhau.\")\n",
    "print(\"- Hình dạng phân bố của dữ liệu:\")\n",
    "print(f\"+, Độ lệch: Skewness={no_smoke_stats['Skewness']}\")\n",
    "print(f\"+, Độ bè nhọn của đỉnh dữ liệu: Kurtosis={no_smoke_stats['Kurtosis']}\")\n",
    "print(\"=> Nhận xét: Nhƣ vậy dữ liệu hơi lệch về phía trái, và đỉnh nhọn, hai bên giảm với tốc độ vừa phải.\")\n"
   ]
  },
  {
   "cell_type": "markdown",
   "metadata": {},
   "source": [
    "2.Biểu diễn hình học của dữ liệu"
   ]
  },
  {
   "cell_type": "markdown",
   "metadata": {},
   "source": [
    "1. Dữ liệu cân nặng của trẻ trong trƣờng hợp bà mẹ hút thuốc và bà mẹ không hút thuốc. Ta sẽ phân tích các biểu đồ:"
   ]
  },
  {
   "cell_type": "markdown",
   "metadata": {},
   "source": [
    "a) Histogram trong trường hợp bà mẹ có hút thuốc:"
   ]
  },
  {
   "cell_type": "code",
   "execution_count": 430,
   "metadata": {},
   "outputs": [
    {
     "data": {
      "image/png": "[encoded data removed]",
      "text/plain": [
       "<Figure size 720x432 with 1 Axes>"
      ]
     },
     "metadata": {
      "needs_background": "light"
     },
     "output_type": "display_data"
    }
   ],
   "source": [
    "# Biểu diễn bằng biểu đồ Histogram với trường hợp là các bà mẹ có hút thuốc\n",
    "df_smoke = data[data['smoke'] == 1]\n",
    "df_no_smoke = data[data['smoke'] == 0]\n",
    "plt.figure(figsize=(10,6))\n",
    "plt.hist(df_smoke[\"bwt\"], color='blue')\n",
    "plt.title(\"Histogram trong trường hợp bà mẹ có hút thuốc\")\n",
    "plt.xlabel(\"bwt\")\n",
    "plt.ylabel(\"Frequency\")\n",
    "plt.show()"
   ]
  },
  {
   "cell_type": "markdown",
   "metadata": {},
   "source": [
    "- Vị trí tập trung dữ liệu: khoảng 110\n",
    "\n",
    "- Tính biến động của dữ liệu: dữ liệu phân bố trong khoảng [50-170]\n",
    "\n",
    "- Tính đối xứng của phân bố dữ liệu: dữ liệu chỉ có 1 đỉnh. Bắt đầu từ đỉnh, hai bên giảm dần và tốc độ giảm vừa phải. Dữ liệu phân bố gần đối xứng, hơi lệch về phía trái. Hai bên đuôi có độ dài vừa phải. Hai bên đỉnh dữ liệu cũng phân bố vừa phải.\n",
    "\n",
    "- Giá trị ngoại lệ: không thấy rõ có giá trị ngoại lệ nào đáng kể"
   ]
  },
  {
   "cell_type": "markdown",
   "metadata": {},
   "source": [
    "b) Boxplot trong trường hợp bà mẹ có hút thuốc"
   ]
  },
  {
   "cell_type": "code",
   "execution_count": 431,
   "metadata": {},
   "outputs": [
    {
     "data": {
      "image/png": "[encoded data removed]",
      "text/plain": [
       "<Figure size 720x432 with 1 Axes>"
      ]
     },
     "metadata": {
      "needs_background": "light"
     },
     "output_type": "display_data"
    }
   ],
   "source": [
    "# Sử dụng thư viện seaborn để biểu biễn dữ liệu trong trường hợp bà mẹ có hút thuốc bằng biểu đồ boxplot\n",
    "plt.figure(figsize=(10, 6))\n",
    "sns.boxplot(x='smoke', y='bwt', data=df_smoke)\n",
    "plt.title('Boxplot trong trường hợp bà mẹ có hút thuốc')\n",
    "plt.show()"
   ]
  },
  {
   "cell_type": "markdown",
   "metadata": {},
   "source": [
    "2. Dữ liệu cân nặng của trẻ trong trường hợp bà mẹ hút thuốc không hút thuốc"
   ]
  },
  {
   "cell_type": "markdown",
   "metadata": {},
   "source": [
    "So sánh hai tập dữ liệu dựa vào các biểu diễn hình học:"
   ]
  },
  {
   "cell_type": "markdown",
   "metadata": {},
   "source": [
    "a) Histogram"
   ]
  },
  {
   "cell_type": "code",
   "execution_count": 438,
   "metadata": {},
   "outputs": [
    {
     "data": {
      "image/png": "[encoded data removed]",
      "text/plain": [
       "<Figure size 864x432 with 2 Axes>"
      ]
     },
     "metadata": {
      "needs_background": "light"
     },
     "output_type": "display_data"
    }
   ],
   "source": [
    "# Hiển thị dữ liệu trường hợp có hút thuốc dự trên cân nặng bằng biểu đồ Histogram\n",
    "plt.figure(figsize=(12, 6))\n",
    "\n",
    "plt.subplot(1, 2, 1)\n",
    "plt.hist(df_smoke['bwt'], color='blue')\n",
    "plt.title('Histogram trường hợp bà mẹ có hút thuốc')\n",
    "plt.xlabel('Cân nặng')\n",
    "\n",
    "# Hiển thị dữ liệu trường hợp không hút thuốc dự trên cân nặng bằng biểu đồ Histogram\n",
    "plt.subplot(1, 2, 2)\n",
    "plt.hist(df_no_smoke['bwt'], color='red')\n",
    "plt.title('Histogram trường hợp bà mẹ không hút thuốc')\n",
    "plt.xlabel('Cân nặng')\n",
    "\n",
    "plt.tight_layout()\n",
    "plt.show()"
   ]
  },
  {
   "cell_type": "markdown",
   "metadata": {},
   "source": [
    "- Cân nặng của trẻ trẻ trong trường hợp bà mẹ không hút thuốc cáo hơn so với trường hợp bà mẹ có hút thuốc \n",
    "- Tính biến thiên của 2 tập dữ liệu: tương tự nhau\n",
    "- Tính đối xứng của 2 tập dữ liệu: tương tự nhau\n",
    "- Giá trị ngoại lệ: cả 2 đều không có giá trị ngoại lệ đáng chú ý."
   ]
  },
  {
   "cell_type": "markdown",
   "metadata": {},
   "source": [
    "b) Boxplot"
   ]
  },
  {
   "cell_type": "code",
   "execution_count": 436,
   "metadata": {},
   "outputs": [
    {
     "data": {
      "image/png": "[encoded data removed]",
      "text/plain": [
       "<Figure size 720x432 with 1 Axes>"
      ]
     },
     "metadata": {
      "needs_background": "light"
     },
     "output_type": "display_data"
    }
   ],
   "source": [
    "# Sử dụng thư viện seaborn để hiển thị dữ liệu bằng biểu đồ boxplot với cả 2 trường hợp là có hút thuốc và không hút thuốc\n",
    "plt.figure(figsize=(10, 6))\n",
    "sns.boxplot(x='smoke', y='bwt', data=data)\n",
    "plt.title('Boxplot grouped by smoke bwt')\n",
    "plt.show()"
   ]
  },
  {
   "cell_type": "markdown",
   "metadata": {},
   "source": [
    "- Khác biệt về vị trí: giá trị trung vị của trường hợp bà mẹ không hút thuốc lớn hơn trường hợp bà mẹ có hút thuốc (123 và 115). (Trường hợp smoke=9 là trường hợp không biết bà mẹ có hút thuốc hay không, trung vị trong trường hợp này cao hơn so với 2 trường hợp bà mẹ có hút \n",
    "thuốc và không hút thuốc).\n",
    "\n",
    "- Giá trị ngoại lệ: cả 2 trường hợp đều có giá trị ngoại lệ trên và dưới. Trường hợp không hút thuốc có nhiều giá trị ngoại lệ hơn."
   ]
  },
  {
   "cell_type": "markdown",
   "metadata": {},
   "source": [
    "So sánh QQ-plot phân bố của 2 tập dữ liệu:"
   ]
  },
  {
   "cell_type": "code",
   "execution_count": 437,
   "metadata": {},
   "outputs": [
    {
     "data": {
      "image/png": "[encoded data removed]",
      "text/plain": [
       "<Figure size 720x432 with 1 Axes>"
      ]
     },
     "metadata": {
      "needs_background": "light"
     },
     "output_type": "display_data"
    },
    {
     "data": {
      "image/png": "[encoded data removed]",
      "text/plain": [
       "<Figure size 720x432 with 1 Axes>"
      ]
     },
     "metadata": {
      "needs_background": "light"
     },
     "output_type": "display_data"
    }
   ],
   "source": [
    "# Biểu diễn bằng biểu đồ QQ-plot với dữ liệu là các bà mẹ hút thuốc và bà mẹ không hút thuốc\n",
    "plt.figure(figsize=(10, 6))\n",
    "stats.probplot(df_smoke['bwt'], dist=\"norm\", plot=plt)\n",
    "plt.title('QQ-Plot trong trường hợp bà mẹ có hút thuốc')\n",
    "plt.xlabel('')\n",
    "plt.ylabel('')\n",
    "\n",
    "\n",
    "plt.figure(figsize=(10, 6))\n",
    "stats.probplot(df_no_smoke['bwt'], dist=\"norm\", plot=plt)\n",
    "plt.title('QQ-Plot trong trường hợp bà mẹ không hút thuốc')\n",
    "plt.xlabel('')\n",
    "plt.ylabel('')\n",
    "\n",
    "plt.tight_layout()\n",
    "plt.show()"
   ]
  },
  {
   "cell_type": "markdown",
   "metadata": {},
   "source": [
    "QQ-plot có dạng đường thẳng, suy ra dữ liệu của 2 trường hợp có phân bố tương tự nhau."
   ]
  }
 ],
 "metadata": {
  "kernelspec": {
   "display_name": "Python 3",
   "language": "python",
   "name": "python3"
  },
  "language_info": {
   "codemirror_mode": {
    "name": "ipython",
    "version": 3
   },
   "file_extension": ".py",
   "mimetype": "text/x-python",
   "name": "python",
   "nbconvert_exporter": "python",
   "pygments_lexer": "ipython3",
   "version": "3.9.7"
  }
 },
 "nbformat": 4,
 "nbformat_minor": 2
}
