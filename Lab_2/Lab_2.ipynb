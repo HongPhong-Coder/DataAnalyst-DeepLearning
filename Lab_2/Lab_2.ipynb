{
 "cells": [
  {
   "cell_type": "code",
   "execution_count": 1,
   "metadata": {},
   "outputs": [],
   "source": [
    "# Khai báo thư viện \n",
    "import numpy as np\n",
    "import pandas as pd\n",
    "import matplotlib as plt"
   ]
  },
  {
   "cell_type": "code",
   "execution_count": 5,
   "metadata": {},
   "outputs": [
    {
     "data": {
      "text/html": [
       "<div>\n",
       "<style scoped>\n",
       "    .dataframe tbody tr th:only-of-type {\n",
       "        vertical-align: middle;\n",
       "    }\n",
       "\n",
       "    .dataframe tbody tr th {\n",
       "        vertical-align: top;\n",
       "    }\n",
       "\n",
       "    .dataframe thead th {\n",
       "        text-align: right;\n",
       "    }\n",
       "</style>\n",
       "<table border=\"1\" class=\"dataframe\">\n",
       "  <thead>\n",
       "    <tr style=\"text-align: right;\">\n",
       "      <th></th>\n",
       "      <th>STT</th>\n",
       "      <th>T1</th>\n",
       "      <th>L1</th>\n",
       "      <th>H1</th>\n",
       "      <th>S1</th>\n",
       "      <th>V1</th>\n",
       "      <th>X1</th>\n",
       "      <th>D1</th>\n",
       "      <th>N1</th>\n",
       "      <th>T2</th>\n",
       "      <th>...</th>\n",
       "      <th>TBM1</th>\n",
       "      <th>TBM2</th>\n",
       "      <th>TBM3</th>\n",
       "      <th>XL1</th>\n",
       "      <th>XL2</th>\n",
       "      <th>XL3</th>\n",
       "      <th>US_TBM1</th>\n",
       "      <th>US_TBM2</th>\n",
       "      <th>US_TBM3</th>\n",
       "      <th>KQXT</th>\n",
       "    </tr>\n",
       "  </thead>\n",
       "  <tbody>\n",
       "    <tr>\n",
       "      <th>0</th>\n",
       "      <td>1</td>\n",
       "      <td>7.2</td>\n",
       "      <td>7.3</td>\n",
       "      <td>6.3</td>\n",
       "      <td>7.3</td>\n",
       "      <td>7.0</td>\n",
       "      <td>7.9</td>\n",
       "      <td>7.3</td>\n",
       "      <td>5.5</td>\n",
       "      <td>8.4</td>\n",
       "      <td>...</td>\n",
       "      <td>7.00</td>\n",
       "      <td>7.54</td>\n",
       "      <td>7.01</td>\n",
       "      <td>K</td>\n",
       "      <td>K</td>\n",
       "      <td>K</td>\n",
       "      <td>2.800</td>\n",
       "      <td>3.016</td>\n",
       "      <td>2.804</td>\n",
       "      <td>0</td>\n",
       "    </tr>\n",
       "    <tr>\n",
       "      <th>1</th>\n",
       "      <td>2</td>\n",
       "      <td>5.4</td>\n",
       "      <td>3.9</td>\n",
       "      <td>3.9</td>\n",
       "      <td>4.0</td>\n",
       "      <td>5.4</td>\n",
       "      <td>5.4</td>\n",
       "      <td>5.3</td>\n",
       "      <td>2.8</td>\n",
       "      <td>6.3</td>\n",
       "      <td>...</td>\n",
       "      <td>4.69</td>\n",
       "      <td>5.47</td>\n",
       "      <td>5.07</td>\n",
       "      <td>Y</td>\n",
       "      <td>TB</td>\n",
       "      <td>TB</td>\n",
       "      <td>1.876</td>\n",
       "      <td>2.188</td>\n",
       "      <td>2.028</td>\n",
       "      <td>0</td>\n",
       "    </tr>\n",
       "    <tr>\n",
       "      <th>2</th>\n",
       "      <td>3</td>\n",
       "      <td>5.6</td>\n",
       "      <td>6.8</td>\n",
       "      <td>7.2</td>\n",
       "      <td>7.5</td>\n",
       "      <td>4.3</td>\n",
       "      <td>7.4</td>\n",
       "      <td>5.8</td>\n",
       "      <td>3.2</td>\n",
       "      <td>5.0</td>\n",
       "      <td>...</td>\n",
       "      <td>5.77</td>\n",
       "      <td>5.38</td>\n",
       "      <td>6.04</td>\n",
       "      <td>TB</td>\n",
       "      <td>TB</td>\n",
       "      <td>TB</td>\n",
       "      <td>2.308</td>\n",
       "      <td>2.152</td>\n",
       "      <td>2.416</td>\n",
       "      <td>1</td>\n",
       "    </tr>\n",
       "    <tr>\n",
       "      <th>3</th>\n",
       "      <td>4</td>\n",
       "      <td>6.6</td>\n",
       "      <td>6.4</td>\n",
       "      <td>5.3</td>\n",
       "      <td>6.9</td>\n",
       "      <td>5.4</td>\n",
       "      <td>7.3</td>\n",
       "      <td>6.4</td>\n",
       "      <td>5.8</td>\n",
       "      <td>5.1</td>\n",
       "      <td>...</td>\n",
       "      <td>6.21</td>\n",
       "      <td>5.20</td>\n",
       "      <td>6.88</td>\n",
       "      <td>TB</td>\n",
       "      <td>TB</td>\n",
       "      <td>K</td>\n",
       "      <td>2.484</td>\n",
       "      <td>2.080</td>\n",
       "      <td>2.752</td>\n",
       "      <td>0</td>\n",
       "    </tr>\n",
       "    <tr>\n",
       "      <th>4</th>\n",
       "      <td>5</td>\n",
       "      <td>6.0</td>\n",
       "      <td>5.0</td>\n",
       "      <td>6.0</td>\n",
       "      <td>7.3</td>\n",
       "      <td>6.5</td>\n",
       "      <td>7.7</td>\n",
       "      <td>7.9</td>\n",
       "      <td>6.1</td>\n",
       "      <td>5.4</td>\n",
       "      <td>...</td>\n",
       "      <td>6.50</td>\n",
       "      <td>6.36</td>\n",
       "      <td>6.99</td>\n",
       "      <td>K</td>\n",
       "      <td>TB</td>\n",
       "      <td>K</td>\n",
       "      <td>2.600</td>\n",
       "      <td>2.544</td>\n",
       "      <td>2.796</td>\n",
       "      <td>0</td>\n",
       "    </tr>\n",
       "    <tr>\n",
       "      <th>5</th>\n",
       "      <td>6</td>\n",
       "      <td>9.3</td>\n",
       "      <td>7.6</td>\n",
       "      <td>7.9</td>\n",
       "      <td>8.6</td>\n",
       "      <td>7.0</td>\n",
       "      <td>7.3</td>\n",
       "      <td>7.7</td>\n",
       "      <td>7.9</td>\n",
       "      <td>9.6</td>\n",
       "      <td>...</td>\n",
       "      <td>7.96</td>\n",
       "      <td>8.54</td>\n",
       "      <td>7.38</td>\n",
       "      <td>K</td>\n",
       "      <td>G</td>\n",
       "      <td>K</td>\n",
       "      <td>3.184</td>\n",
       "      <td>3.416</td>\n",
       "      <td>2.952</td>\n",
       "      <td>0</td>\n",
       "    </tr>\n",
       "    <tr>\n",
       "      <th>6</th>\n",
       "      <td>7</td>\n",
       "      <td>2.8</td>\n",
       "      <td>3.9</td>\n",
       "      <td>5.5</td>\n",
       "      <td>6.9</td>\n",
       "      <td>5.0</td>\n",
       "      <td>7.3</td>\n",
       "      <td>4.6</td>\n",
       "      <td>5.2</td>\n",
       "      <td>4.4</td>\n",
       "      <td>...</td>\n",
       "      <td>4.90</td>\n",
       "      <td>5.60</td>\n",
       "      <td>6.01</td>\n",
       "      <td>Y</td>\n",
       "      <td>TB</td>\n",
       "      <td>TB</td>\n",
       "      <td>1.960</td>\n",
       "      <td>2.240</td>\n",
       "      <td>2.404</td>\n",
       "      <td>1</td>\n",
       "    </tr>\n",
       "    <tr>\n",
       "      <th>7</th>\n",
       "      <td>8</td>\n",
       "      <td>8.3</td>\n",
       "      <td>6.0</td>\n",
       "      <td>7.6</td>\n",
       "      <td>5.1</td>\n",
       "      <td>7.5</td>\n",
       "      <td>4.7</td>\n",
       "      <td>5.8</td>\n",
       "      <td>7.2</td>\n",
       "      <td>6.7</td>\n",
       "      <td>...</td>\n",
       "      <td>6.80</td>\n",
       "      <td>6.87</td>\n",
       "      <td>7.03</td>\n",
       "      <td>K</td>\n",
       "      <td>K</td>\n",
       "      <td>K</td>\n",
       "      <td>2.720</td>\n",
       "      <td>2.748</td>\n",
       "      <td>2.812</td>\n",
       "      <td>0</td>\n",
       "    </tr>\n",
       "    <tr>\n",
       "      <th>8</th>\n",
       "      <td>9</td>\n",
       "      <td>6.5</td>\n",
       "      <td>6.3</td>\n",
       "      <td>7.6</td>\n",
       "      <td>6.0</td>\n",
       "      <td>5.5</td>\n",
       "      <td>7.1</td>\n",
       "      <td>6.3</td>\n",
       "      <td>5.0</td>\n",
       "      <td>7.3</td>\n",
       "      <td>...</td>\n",
       "      <td>6.23</td>\n",
       "      <td>6.72</td>\n",
       "      <td>7.56</td>\n",
       "      <td>TB</td>\n",
       "      <td>K</td>\n",
       "      <td>K</td>\n",
       "      <td>2.492</td>\n",
       "      <td>2.688</td>\n",
       "      <td>3.024</td>\n",
       "      <td>0</td>\n",
       "    </tr>\n",
       "    <tr>\n",
       "      <th>9</th>\n",
       "      <td>10</td>\n",
       "      <td>7.3</td>\n",
       "      <td>5.9</td>\n",
       "      <td>4.7</td>\n",
       "      <td>7.1</td>\n",
       "      <td>6.7</td>\n",
       "      <td>7.9</td>\n",
       "      <td>6.7</td>\n",
       "      <td>7.7</td>\n",
       "      <td>8.0</td>\n",
       "      <td>...</td>\n",
       "      <td>6.80</td>\n",
       "      <td>7.25</td>\n",
       "      <td>7.03</td>\n",
       "      <td>K</td>\n",
       "      <td>K</td>\n",
       "      <td>K</td>\n",
       "      <td>2.720</td>\n",
       "      <td>2.900</td>\n",
       "      <td>2.812</td>\n",
       "      <td>0</td>\n",
       "    </tr>\n",
       "  </tbody>\n",
       "</table>\n",
       "<p>10 rows × 66 columns</p>\n",
       "</div>"
      ],
      "text/plain": [
       "   STT   T1   L1   H1   S1   V1   X1   D1   N1   T2  ...  TBM1  TBM2  TBM3  \\\n",
       "0    1  7.2  7.3  6.3  7.3  7.0  7.9  7.3  5.5  8.4  ...  7.00  7.54  7.01   \n",
       "1    2  5.4  3.9  3.9  4.0  5.4  5.4  5.3  2.8  6.3  ...  4.69  5.47  5.07   \n",
       "2    3  5.6  6.8  7.2  7.5  4.3  7.4  5.8  3.2  5.0  ...  5.77  5.38  6.04   \n",
       "3    4  6.6  6.4  5.3  6.9  5.4  7.3  6.4  5.8  5.1  ...  6.21  5.20  6.88   \n",
       "4    5  6.0  5.0  6.0  7.3  6.5  7.7  7.9  6.1  5.4  ...  6.50  6.36  6.99   \n",
       "5    6  9.3  7.6  7.9  8.6  7.0  7.3  7.7  7.9  9.6  ...  7.96  8.54  7.38   \n",
       "6    7  2.8  3.9  5.5  6.9  5.0  7.3  4.6  5.2  4.4  ...  4.90  5.60  6.01   \n",
       "7    8  8.3  6.0  7.6  5.1  7.5  4.7  5.8  7.2  6.7  ...  6.80  6.87  7.03   \n",
       "8    9  6.5  6.3  7.6  6.0  5.5  7.1  6.3  5.0  7.3  ...  6.23  6.72  7.56   \n",
       "9   10  7.3  5.9  4.7  7.1  6.7  7.9  6.7  7.7  8.0  ...  6.80  7.25  7.03   \n",
       "\n",
       "   XL1  XL2  XL3  US_TBM1  US_TBM2  US_TBM3  KQXT  \n",
       "0    K    K    K    2.800    3.016    2.804     0  \n",
       "1    Y   TB   TB    1.876    2.188    2.028     0  \n",
       "2   TB   TB   TB    2.308    2.152    2.416     1  \n",
       "3   TB   TB    K    2.484    2.080    2.752     0  \n",
       "4    K   TB    K    2.600    2.544    2.796     0  \n",
       "5    K    G    K    3.184    3.416    2.952     0  \n",
       "6    Y   TB   TB    1.960    2.240    2.404     1  \n",
       "7    K    K    K    2.720    2.748    2.812     0  \n",
       "8   TB    K    K    2.492    2.688    3.024     0  \n",
       "9    K    K    K    2.720    2.900    2.812     0  \n",
       "\n",
       "[10 rows x 66 columns]"
      ]
     },
     "execution_count": 5,
     "metadata": {},
     "output_type": "execute_result"
    }
   ],
   "source": [
    "# Đọc dữ liệu đã cho\n",
    "data = pd.read_csv(\"D:\\DataAnalyst\\Lab_2\\processed_dulieuxettuyendaihoc.csv\", index_col=False)\n",
    "data.head(10)"
   ]
  },
  {
   "cell_type": "markdown",
   "metadata": {},
   "source": [
    "PHẦN 1: THỐNG KÊ DỮ LIỆU"
   ]
  },
  {
   "cell_type": "markdown",
   "metadata": {},
   "source": [
    "1. Hãy sắp xếp dữ liệu điểm DH1 theo thứ tự tăng dần"
   ]
  },
  {
   "cell_type": "code",
   "execution_count": 6,
   "metadata": {},
   "outputs": [
    {
     "data": {
      "text/plain": [
       "53    1.00\n",
       "43    1.25\n",
       "72    1.50\n",
       "5     1.50\n",
       "87    1.75\n",
       "83    1.75\n",
       "79    2.00\n",
       "73    2.00\n",
       "57    2.00\n",
       "12    2.00\n",
       "Name: DH1, dtype: float64"
      ]
     },
     "execution_count": 6,
     "metadata": {},
     "output_type": "execute_result"
    }
   ],
   "source": [
    "DH1 = data[\"DH1\"].sort_values()\n",
    "DH1.head(10)"
   ]
  },
  {
   "cell_type": "markdown",
   "metadata": {},
   "source": [
    "Hàm \"sort_values()\" sẽ mặc định là sắp xếp theo giá trị tăng dần, nếu muốn sắp xếp giảm dần thì ta thêm tham số \"ascending=False\"."
   ]
  },
  {
   "cell_type": "markdown",
   "metadata": {},
   "source": [
    "2. Hãy sắp xếp dữ liệu điểm DH2 tăng dần theo nhóm giới tính"
   ]
  },
  {
   "cell_type": "code",
   "execution_count": 12,
   "metadata": {},
   "outputs": [
    {
     "data": {
      "text/html": [
       "<div>\n",
       "<style scoped>\n",
       "    .dataframe tbody tr th:only-of-type {\n",
       "        vertical-align: middle;\n",
       "    }\n",
       "\n",
       "    .dataframe tbody tr th {\n",
       "        vertical-align: top;\n",
       "    }\n",
       "\n",
       "    .dataframe thead th {\n",
       "        text-align: right;\n",
       "    }\n",
       "</style>\n",
       "<table border=\"1\" class=\"dataframe\">\n",
       "  <thead>\n",
       "    <tr style=\"text-align: right;\">\n",
       "      <th></th>\n",
       "      <th>STT</th>\n",
       "      <th>T1</th>\n",
       "      <th>L1</th>\n",
       "      <th>H1</th>\n",
       "      <th>S1</th>\n",
       "      <th>V1</th>\n",
       "      <th>X1</th>\n",
       "      <th>D1</th>\n",
       "      <th>N1</th>\n",
       "      <th>T2</th>\n",
       "      <th>...</th>\n",
       "      <th>TBM1</th>\n",
       "      <th>TBM2</th>\n",
       "      <th>TBM3</th>\n",
       "      <th>XL1</th>\n",
       "      <th>XL2</th>\n",
       "      <th>XL3</th>\n",
       "      <th>US_TBM1</th>\n",
       "      <th>US_TBM2</th>\n",
       "      <th>US_TBM3</th>\n",
       "      <th>KQXT</th>\n",
       "    </tr>\n",
       "  </thead>\n",
       "  <tbody>\n",
       "    <tr>\n",
       "      <th>95</th>\n",
       "      <td>96</td>\n",
       "      <td>8.6</td>\n",
       "      <td>6.9</td>\n",
       "      <td>7.4</td>\n",
       "      <td>8.8</td>\n",
       "      <td>7.6</td>\n",
       "      <td>5.8</td>\n",
       "      <td>7.3</td>\n",
       "      <td>5.7</td>\n",
       "      <td>8.9</td>\n",
       "      <td>...</td>\n",
       "      <td>7.43</td>\n",
       "      <td>7.42</td>\n",
       "      <td>6.83</td>\n",
       "      <td>K</td>\n",
       "      <td>K</td>\n",
       "      <td>K</td>\n",
       "      <td>2.972</td>\n",
       "      <td>2.968</td>\n",
       "      <td>2.732</td>\n",
       "      <td>0</td>\n",
       "    </tr>\n",
       "    <tr>\n",
       "      <th>25</th>\n",
       "      <td>26</td>\n",
       "      <td>3.6</td>\n",
       "      <td>5.8</td>\n",
       "      <td>6.9</td>\n",
       "      <td>6.1</td>\n",
       "      <td>5.5</td>\n",
       "      <td>7.2</td>\n",
       "      <td>5.5</td>\n",
       "      <td>4.3</td>\n",
       "      <td>4.2</td>\n",
       "      <td>...</td>\n",
       "      <td>5.40</td>\n",
       "      <td>5.20</td>\n",
       "      <td>5.09</td>\n",
       "      <td>TB</td>\n",
       "      <td>TB</td>\n",
       "      <td>TB</td>\n",
       "      <td>2.160</td>\n",
       "      <td>2.080</td>\n",
       "      <td>2.036</td>\n",
       "      <td>0</td>\n",
       "    </tr>\n",
       "    <tr>\n",
       "      <th>24</th>\n",
       "      <td>25</td>\n",
       "      <td>2.4</td>\n",
       "      <td>4.1</td>\n",
       "      <td>3.6</td>\n",
       "      <td>5.5</td>\n",
       "      <td>5.9</td>\n",
       "      <td>5.6</td>\n",
       "      <td>4.9</td>\n",
       "      <td>4.2</td>\n",
       "      <td>3.3</td>\n",
       "      <td>...</td>\n",
       "      <td>4.45</td>\n",
       "      <td>4.88</td>\n",
       "      <td>5.41</td>\n",
       "      <td>Y</td>\n",
       "      <td>Y</td>\n",
       "      <td>TB</td>\n",
       "      <td>1.780</td>\n",
       "      <td>1.952</td>\n",
       "      <td>2.164</td>\n",
       "      <td>0</td>\n",
       "    </tr>\n",
       "    <tr>\n",
       "      <th>46</th>\n",
       "      <td>47</td>\n",
       "      <td>6.7</td>\n",
       "      <td>6.8</td>\n",
       "      <td>6.4</td>\n",
       "      <td>5.9</td>\n",
       "      <td>5.6</td>\n",
       "      <td>6.4</td>\n",
       "      <td>8.0</td>\n",
       "      <td>6.8</td>\n",
       "      <td>6.6</td>\n",
       "      <td>...</td>\n",
       "      <td>6.49</td>\n",
       "      <td>6.51</td>\n",
       "      <td>6.16</td>\n",
       "      <td>TB</td>\n",
       "      <td>K</td>\n",
       "      <td>TB</td>\n",
       "      <td>2.596</td>\n",
       "      <td>2.604</td>\n",
       "      <td>2.464</td>\n",
       "      <td>0</td>\n",
       "    </tr>\n",
       "    <tr>\n",
       "      <th>13</th>\n",
       "      <td>14</td>\n",
       "      <td>4.9</td>\n",
       "      <td>5.4</td>\n",
       "      <td>5.0</td>\n",
       "      <td>5.0</td>\n",
       "      <td>5.8</td>\n",
       "      <td>7.0</td>\n",
       "      <td>4.2</td>\n",
       "      <td>5.8</td>\n",
       "      <td>4.5</td>\n",
       "      <td>...</td>\n",
       "      <td>5.38</td>\n",
       "      <td>5.51</td>\n",
       "      <td>6.26</td>\n",
       "      <td>TB</td>\n",
       "      <td>TB</td>\n",
       "      <td>TB</td>\n",
       "      <td>2.152</td>\n",
       "      <td>2.204</td>\n",
       "      <td>2.504</td>\n",
       "      <td>0</td>\n",
       "    </tr>\n",
       "    <tr>\n",
       "      <th>21</th>\n",
       "      <td>22</td>\n",
       "      <td>5.0</td>\n",
       "      <td>5.1</td>\n",
       "      <td>6.3</td>\n",
       "      <td>4.5</td>\n",
       "      <td>6.8</td>\n",
       "      <td>5.8</td>\n",
       "      <td>5.1</td>\n",
       "      <td>4.1</td>\n",
       "      <td>5.8</td>\n",
       "      <td>...</td>\n",
       "      <td>5.45</td>\n",
       "      <td>5.21</td>\n",
       "      <td>6.33</td>\n",
       "      <td>TB</td>\n",
       "      <td>TB</td>\n",
       "      <td>TB</td>\n",
       "      <td>2.180</td>\n",
       "      <td>2.084</td>\n",
       "      <td>2.532</td>\n",
       "      <td>0</td>\n",
       "    </tr>\n",
       "    <tr>\n",
       "      <th>0</th>\n",
       "      <td>1</td>\n",
       "      <td>7.2</td>\n",
       "      <td>7.3</td>\n",
       "      <td>6.3</td>\n",
       "      <td>7.3</td>\n",
       "      <td>7.0</td>\n",
       "      <td>7.9</td>\n",
       "      <td>7.3</td>\n",
       "      <td>5.5</td>\n",
       "      <td>8.4</td>\n",
       "      <td>...</td>\n",
       "      <td>7.00</td>\n",
       "      <td>7.54</td>\n",
       "      <td>7.01</td>\n",
       "      <td>K</td>\n",
       "      <td>K</td>\n",
       "      <td>K</td>\n",
       "      <td>2.800</td>\n",
       "      <td>3.016</td>\n",
       "      <td>2.804</td>\n",
       "      <td>0</td>\n",
       "    </tr>\n",
       "    <tr>\n",
       "      <th>51</th>\n",
       "      <td>52</td>\n",
       "      <td>6.0</td>\n",
       "      <td>5.3</td>\n",
       "      <td>8.5</td>\n",
       "      <td>6.6</td>\n",
       "      <td>7.6</td>\n",
       "      <td>7.5</td>\n",
       "      <td>7.6</td>\n",
       "      <td>4.0</td>\n",
       "      <td>7.3</td>\n",
       "      <td>...</td>\n",
       "      <td>6.67</td>\n",
       "      <td>7.73</td>\n",
       "      <td>7.18</td>\n",
       "      <td>K</td>\n",
       "      <td>K</td>\n",
       "      <td>K</td>\n",
       "      <td>2.668</td>\n",
       "      <td>3.092</td>\n",
       "      <td>2.872</td>\n",
       "      <td>0</td>\n",
       "    </tr>\n",
       "    <tr>\n",
       "      <th>8</th>\n",
       "      <td>9</td>\n",
       "      <td>6.5</td>\n",
       "      <td>6.3</td>\n",
       "      <td>7.6</td>\n",
       "      <td>6.0</td>\n",
       "      <td>5.5</td>\n",
       "      <td>7.1</td>\n",
       "      <td>6.3</td>\n",
       "      <td>5.0</td>\n",
       "      <td>7.3</td>\n",
       "      <td>...</td>\n",
       "      <td>6.23</td>\n",
       "      <td>6.72</td>\n",
       "      <td>7.56</td>\n",
       "      <td>TB</td>\n",
       "      <td>K</td>\n",
       "      <td>K</td>\n",
       "      <td>2.492</td>\n",
       "      <td>2.688</td>\n",
       "      <td>3.024</td>\n",
       "      <td>0</td>\n",
       "    </tr>\n",
       "    <tr>\n",
       "      <th>22</th>\n",
       "      <td>23</td>\n",
       "      <td>5.0</td>\n",
       "      <td>4.5</td>\n",
       "      <td>5.3</td>\n",
       "      <td>6.8</td>\n",
       "      <td>4.8</td>\n",
       "      <td>5.5</td>\n",
       "      <td>5.5</td>\n",
       "      <td>5.5</td>\n",
       "      <td>5.5</td>\n",
       "      <td>...</td>\n",
       "      <td>5.27</td>\n",
       "      <td>5.83</td>\n",
       "      <td>5.84</td>\n",
       "      <td>TB</td>\n",
       "      <td>TB</td>\n",
       "      <td>TB</td>\n",
       "      <td>2.108</td>\n",
       "      <td>2.332</td>\n",
       "      <td>2.336</td>\n",
       "      <td>0</td>\n",
       "    </tr>\n",
       "  </tbody>\n",
       "</table>\n",
       "<p>10 rows × 66 columns</p>\n",
       "</div>"
      ],
      "text/plain": [
       "    STT   T1   L1   H1   S1   V1   X1   D1   N1   T2  ...  TBM1  TBM2  TBM3  \\\n",
       "95   96  8.6  6.9  7.4  8.8  7.6  5.8  7.3  5.7  8.9  ...  7.43  7.42  6.83   \n",
       "25   26  3.6  5.8  6.9  6.1  5.5  7.2  5.5  4.3  4.2  ...  5.40  5.20  5.09   \n",
       "24   25  2.4  4.1  3.6  5.5  5.9  5.6  4.9  4.2  3.3  ...  4.45  4.88  5.41   \n",
       "46   47  6.7  6.8  6.4  5.9  5.6  6.4  8.0  6.8  6.6  ...  6.49  6.51  6.16   \n",
       "13   14  4.9  5.4  5.0  5.0  5.8  7.0  4.2  5.8  4.5  ...  5.38  5.51  6.26   \n",
       "21   22  5.0  5.1  6.3  4.5  6.8  5.8  5.1  4.1  5.8  ...  5.45  5.21  6.33   \n",
       "0     1  7.2  7.3  6.3  7.3  7.0  7.9  7.3  5.5  8.4  ...  7.00  7.54  7.01   \n",
       "51   52  6.0  5.3  8.5  6.6  7.6  7.5  7.6  4.0  7.3  ...  6.67  7.73  7.18   \n",
       "8     9  6.5  6.3  7.6  6.0  5.5  7.1  6.3  5.0  7.3  ...  6.23  6.72  7.56   \n",
       "22   23  5.0  4.5  5.3  6.8  4.8  5.5  5.5  5.5  5.5  ...  5.27  5.83  5.84   \n",
       "\n",
       "    XL1  XL2  XL3  US_TBM1  US_TBM2  US_TBM3  KQXT  \n",
       "95    K    K    K    2.972    2.968    2.732     0  \n",
       "25   TB   TB   TB    2.160    2.080    2.036     0  \n",
       "24    Y    Y   TB    1.780    1.952    2.164     0  \n",
       "46   TB    K   TB    2.596    2.604    2.464     0  \n",
       "13   TB   TB   TB    2.152    2.204    2.504     0  \n",
       "21   TB   TB   TB    2.180    2.084    2.532     0  \n",
       "0     K    K    K    2.800    3.016    2.804     0  \n",
       "51    K    K    K    2.668    3.092    2.872     0  \n",
       "8    TB    K    K    2.492    2.688    3.024     0  \n",
       "22   TB   TB   TB    2.108    2.332    2.336     0  \n",
       "\n",
       "[10 rows x 66 columns]"
      ]
     },
     "execution_count": 12,
     "metadata": {},
     "output_type": "execute_result"
    }
   ],
   "source": [
    "DH2 = data.sort_values(by = [\"GT\", 'DH2'])\n",
    "DH2.head(10)"
   ]
  },
  {
   "cell_type": "markdown",
   "metadata": {},
   "source": [
    "Hàm \"sort_values()\" còn có thể sắp xếp theo nhiều cột. Cụ thể ở đây là sắp xếp theo \"GT\" sau đó là \"DH2\"."
   ]
  },
  {
   "cell_type": "code",
   "execution_count": 13,
   "metadata": {},
   "outputs": [],
   "source": [
    "def Q1(g):\n",
    "    return np.percentile(g, 25)\n",
    "def Q2(g):\n",
    "    return np.percentile(g, 50)\n",
    "def Q3(g):\n",
    "    return np.percentile(g, 75)\n",
    "def std(g):\n",
    "    return np.std(g)"
   ]
  },
  {
   "cell_type": "markdown",
   "metadata": {},
   "source": [
    "3. Hãy tạo pivot-table để thống kê các giá trị count, sum, mean, median, min, max, std, Q1, Q2 và Q3 của DH1 theo KT"
   ]
  },
  {
   "cell_type": "code",
   "execution_count": 14,
   "metadata": {},
   "outputs": [
    {
     "data": {
      "text/html": [
       "<div>\n",
       "<style scoped>\n",
       "    .dataframe tbody tr th:only-of-type {\n",
       "        vertical-align: middle;\n",
       "    }\n",
       "\n",
       "    .dataframe tbody tr th {\n",
       "        vertical-align: top;\n",
       "    }\n",
       "\n",
       "    .dataframe thead tr th {\n",
       "        text-align: left;\n",
       "    }\n",
       "\n",
       "    .dataframe thead tr:last-of-type th {\n",
       "        text-align: right;\n",
       "    }\n",
       "</style>\n",
       "<table border=\"1\" class=\"dataframe\">\n",
       "  <thead>\n",
       "    <tr>\n",
       "      <th></th>\n",
       "      <th>sum</th>\n",
       "      <th>mean</th>\n",
       "      <th>median</th>\n",
       "      <th>max</th>\n",
       "      <th>min</th>\n",
       "      <th>std</th>\n",
       "      <th>Q1</th>\n",
       "      <th>Q2</th>\n",
       "      <th>Q3</th>\n",
       "    </tr>\n",
       "    <tr>\n",
       "      <th></th>\n",
       "      <th>DH1</th>\n",
       "      <th>DH1</th>\n",
       "      <th>DH1</th>\n",
       "      <th>DH1</th>\n",
       "      <th>DH1</th>\n",
       "      <th>DH1</th>\n",
       "      <th>DH1</th>\n",
       "      <th>DH1</th>\n",
       "      <th>DH1</th>\n",
       "    </tr>\n",
       "    <tr>\n",
       "      <th>KT</th>\n",
       "      <th></th>\n",
       "      <th></th>\n",
       "      <th></th>\n",
       "      <th></th>\n",
       "      <th></th>\n",
       "      <th></th>\n",
       "      <th></th>\n",
       "      <th></th>\n",
       "      <th></th>\n",
       "    </tr>\n",
       "  </thead>\n",
       "  <tbody>\n",
       "    <tr>\n",
       "      <th>A</th>\n",
       "      <td>163.50</td>\n",
       "      <td>3.336735</td>\n",
       "      <td>3.25</td>\n",
       "      <td>6.50</td>\n",
       "      <td>1.00</td>\n",
       "      <td>1.261226</td>\n",
       "      <td>2.2500</td>\n",
       "      <td>3.25</td>\n",
       "      <td>4.250</td>\n",
       "    </tr>\n",
       "    <tr>\n",
       "      <th>A1</th>\n",
       "      <td>17.50</td>\n",
       "      <td>2.916667</td>\n",
       "      <td>3.00</td>\n",
       "      <td>4.25</td>\n",
       "      <td>2.00</td>\n",
       "      <td>0.786165</td>\n",
       "      <td>2.1875</td>\n",
       "      <td>3.00</td>\n",
       "      <td>3.250</td>\n",
       "    </tr>\n",
       "    <tr>\n",
       "      <th>B</th>\n",
       "      <td>29.50</td>\n",
       "      <td>3.277778</td>\n",
       "      <td>3.50</td>\n",
       "      <td>4.50</td>\n",
       "      <td>1.75</td>\n",
       "      <td>0.776785</td>\n",
       "      <td>3.2500</td>\n",
       "      <td>3.50</td>\n",
       "      <td>3.750</td>\n",
       "    </tr>\n",
       "    <tr>\n",
       "      <th>C</th>\n",
       "      <td>79.25</td>\n",
       "      <td>5.660714</td>\n",
       "      <td>5.25</td>\n",
       "      <td>7.00</td>\n",
       "      <td>4.75</td>\n",
       "      <td>0.782665</td>\n",
       "      <td>5.0625</td>\n",
       "      <td>5.25</td>\n",
       "      <td>6.375</td>\n",
       "    </tr>\n",
       "    <tr>\n",
       "      <th>D1</th>\n",
       "      <td>84.25</td>\n",
       "      <td>3.829545</td>\n",
       "      <td>3.75</td>\n",
       "      <td>6.75</td>\n",
       "      <td>1.25</td>\n",
       "      <td>1.338644</td>\n",
       "      <td>3.0000</td>\n",
       "      <td>3.75</td>\n",
       "      <td>4.875</td>\n",
       "    </tr>\n",
       "  </tbody>\n",
       "</table>\n",
       "</div>"
      ],
      "text/plain": [
       "       sum      mean median   max   min       std      Q1    Q2     Q3\n",
       "       DH1       DH1    DH1   DH1   DH1       DH1     DH1   DH1    DH1\n",
       "KT                                                                    \n",
       "A   163.50  3.336735   3.25  6.50  1.00  1.261226  2.2500  3.25  4.250\n",
       "A1   17.50  2.916667   3.00  4.25  2.00  0.786165  2.1875  3.00  3.250\n",
       "B    29.50  3.277778   3.50  4.50  1.75  0.776785  3.2500  3.50  3.750\n",
       "C    79.25  5.660714   5.25  7.00  4.75  0.782665  5.0625  5.25  6.375\n",
       "D1   84.25  3.829545   3.75  6.75  1.25  1.338644  3.0000  3.75  4.875"
      ]
     },
     "execution_count": 14,
     "metadata": {},
     "output_type": "execute_result"
    }
   ],
   "source": [
    "pd.pivot_table(data=data, index=\"KT\", values=\"DH1\", aggfunc=['sum', 'mean', 'median', 'max', 'min', std, Q1, Q2, Q3])"
   ]
  },
  {
   "cell_type": "markdown",
   "metadata": {},
   "source": [
    "4. Hãy tạo pivot-table để thống kê các giá trị count, sum, mean, median, min, max, std, Q1, Q2 và Q3 của DH1 theo KT và KV"
   ]
  },
  {
   "cell_type": "code",
   "execution_count": 15,
   "metadata": {},
   "outputs": [
    {
     "data": {
      "text/html": [
       "<div>\n",
       "<style scoped>\n",
       "    .dataframe tbody tr th:only-of-type {\n",
       "        vertical-align: middle;\n",
       "    }\n",
       "\n",
       "    .dataframe tbody tr th {\n",
       "        vertical-align: top;\n",
       "    }\n",
       "\n",
       "    .dataframe thead tr th {\n",
       "        text-align: left;\n",
       "    }\n",
       "\n",
       "    .dataframe thead tr:last-of-type th {\n",
       "        text-align: right;\n",
       "    }\n",
       "</style>\n",
       "<table border=\"1\" class=\"dataframe\">\n",
       "  <thead>\n",
       "    <tr>\n",
       "      <th></th>\n",
       "      <th></th>\n",
       "      <th>sum</th>\n",
       "      <th>mean</th>\n",
       "      <th>median</th>\n",
       "      <th>max</th>\n",
       "      <th>min</th>\n",
       "      <th>std</th>\n",
       "      <th>Q1</th>\n",
       "      <th>Q2</th>\n",
       "      <th>Q3</th>\n",
       "    </tr>\n",
       "    <tr>\n",
       "      <th></th>\n",
       "      <th></th>\n",
       "      <th>DH1</th>\n",
       "      <th>DH1</th>\n",
       "      <th>DH1</th>\n",
       "      <th>DH1</th>\n",
       "      <th>DH1</th>\n",
       "      <th>DH1</th>\n",
       "      <th>DH1</th>\n",
       "      <th>DH1</th>\n",
       "      <th>DH1</th>\n",
       "    </tr>\n",
       "    <tr>\n",
       "      <th>KT</th>\n",
       "      <th>KV</th>\n",
       "      <th></th>\n",
       "      <th></th>\n",
       "      <th></th>\n",
       "      <th></th>\n",
       "      <th></th>\n",
       "      <th></th>\n",
       "      <th></th>\n",
       "      <th></th>\n",
       "      <th></th>\n",
       "    </tr>\n",
       "  </thead>\n",
       "  <tbody>\n",
       "    <tr>\n",
       "      <th rowspan=\"3\" valign=\"top\">A</th>\n",
       "      <th>1</th>\n",
       "      <td>93.75</td>\n",
       "      <td>3.232759</td>\n",
       "      <td>3.250</td>\n",
       "      <td>6.50</td>\n",
       "      <td>1.00</td>\n",
       "      <td>1.345380</td>\n",
       "      <td>2.0000</td>\n",
       "      <td>3.250</td>\n",
       "      <td>4.2500</td>\n",
       "    </tr>\n",
       "    <tr>\n",
       "      <th>2</th>\n",
       "      <td>31.75</td>\n",
       "      <td>3.527778</td>\n",
       "      <td>3.500</td>\n",
       "      <td>6.25</td>\n",
       "      <td>2.00</td>\n",
       "      <td>1.346005</td>\n",
       "      <td>2.2500</td>\n",
       "      <td>3.500</td>\n",
       "      <td>4.2500</td>\n",
       "    </tr>\n",
       "    <tr>\n",
       "      <th>2NT</th>\n",
       "      <td>38.00</td>\n",
       "      <td>3.454545</td>\n",
       "      <td>3.500</td>\n",
       "      <td>4.75</td>\n",
       "      <td>2.00</td>\n",
       "      <td>0.871377</td>\n",
       "      <td>2.8750</td>\n",
       "      <td>3.500</td>\n",
       "      <td>4.1250</td>\n",
       "    </tr>\n",
       "    <tr>\n",
       "      <th rowspan=\"2\" valign=\"top\">A1</th>\n",
       "      <th>1</th>\n",
       "      <td>4.75</td>\n",
       "      <td>2.375000</td>\n",
       "      <td>2.375</td>\n",
       "      <td>2.75</td>\n",
       "      <td>2.00</td>\n",
       "      <td>0.375000</td>\n",
       "      <td>2.1875</td>\n",
       "      <td>2.375</td>\n",
       "      <td>2.5625</td>\n",
       "    </tr>\n",
       "    <tr>\n",
       "      <th>2NT</th>\n",
       "      <td>12.75</td>\n",
       "      <td>3.187500</td>\n",
       "      <td>3.250</td>\n",
       "      <td>4.25</td>\n",
       "      <td>2.00</td>\n",
       "      <td>0.797947</td>\n",
       "      <td>2.9375</td>\n",
       "      <td>3.250</td>\n",
       "      <td>3.5000</td>\n",
       "    </tr>\n",
       "    <tr>\n",
       "      <th rowspan=\"2\" valign=\"top\">B</th>\n",
       "      <th>1</th>\n",
       "      <td>25.75</td>\n",
       "      <td>3.218750</td>\n",
       "      <td>3.375</td>\n",
       "      <td>4.50</td>\n",
       "      <td>1.75</td>\n",
       "      <td>0.804650</td>\n",
       "      <td>3.0000</td>\n",
       "      <td>3.375</td>\n",
       "      <td>3.5625</td>\n",
       "    </tr>\n",
       "    <tr>\n",
       "      <th>2NT</th>\n",
       "      <td>3.75</td>\n",
       "      <td>3.750000</td>\n",
       "      <td>3.750</td>\n",
       "      <td>3.75</td>\n",
       "      <td>3.75</td>\n",
       "      <td>0.000000</td>\n",
       "      <td>3.7500</td>\n",
       "      <td>3.750</td>\n",
       "      <td>3.7500</td>\n",
       "    </tr>\n",
       "    <tr>\n",
       "      <th rowspan=\"3\" valign=\"top\">C</th>\n",
       "      <th>1</th>\n",
       "      <td>43.50</td>\n",
       "      <td>5.437500</td>\n",
       "      <td>5.250</td>\n",
       "      <td>7.00</td>\n",
       "      <td>4.75</td>\n",
       "      <td>0.681795</td>\n",
       "      <td>5.0000</td>\n",
       "      <td>5.250</td>\n",
       "      <td>5.4375</td>\n",
       "    </tr>\n",
       "    <tr>\n",
       "      <th>2</th>\n",
       "      <td>11.50</td>\n",
       "      <td>5.750000</td>\n",
       "      <td>5.750</td>\n",
       "      <td>6.50</td>\n",
       "      <td>5.00</td>\n",
       "      <td>0.750000</td>\n",
       "      <td>5.3750</td>\n",
       "      <td>5.750</td>\n",
       "      <td>6.1250</td>\n",
       "    </tr>\n",
       "    <tr>\n",
       "      <th>2NT</th>\n",
       "      <td>24.25</td>\n",
       "      <td>6.062500</td>\n",
       "      <td>6.000</td>\n",
       "      <td>7.00</td>\n",
       "      <td>5.25</td>\n",
       "      <td>0.817294</td>\n",
       "      <td>5.2500</td>\n",
       "      <td>6.000</td>\n",
       "      <td>6.8125</td>\n",
       "    </tr>\n",
       "    <tr>\n",
       "      <th rowspan=\"3\" valign=\"top\">D1</th>\n",
       "      <th>1</th>\n",
       "      <td>46.75</td>\n",
       "      <td>3.596154</td>\n",
       "      <td>3.500</td>\n",
       "      <td>5.75</td>\n",
       "      <td>1.50</td>\n",
       "      <td>1.215044</td>\n",
       "      <td>2.7500</td>\n",
       "      <td>3.500</td>\n",
       "      <td>4.2500</td>\n",
       "    </tr>\n",
       "    <tr>\n",
       "      <th>2</th>\n",
       "      <td>33.75</td>\n",
       "      <td>4.218750</td>\n",
       "      <td>4.500</td>\n",
       "      <td>6.75</td>\n",
       "      <td>1.25</td>\n",
       "      <td>1.512642</td>\n",
       "      <td>3.5625</td>\n",
       "      <td>4.500</td>\n",
       "      <td>5.0000</td>\n",
       "    </tr>\n",
       "    <tr>\n",
       "      <th>2NT</th>\n",
       "      <td>3.75</td>\n",
       "      <td>3.750000</td>\n",
       "      <td>3.750</td>\n",
       "      <td>3.75</td>\n",
       "      <td>3.75</td>\n",
       "      <td>0.000000</td>\n",
       "      <td>3.7500</td>\n",
       "      <td>3.750</td>\n",
       "      <td>3.7500</td>\n",
       "    </tr>\n",
       "  </tbody>\n",
       "</table>\n",
       "</div>"
      ],
      "text/plain": [
       "          sum      mean median   max   min       std      Q1     Q2      Q3\n",
       "          DH1       DH1    DH1   DH1   DH1       DH1     DH1    DH1     DH1\n",
       "KT KV                                                                      \n",
       "A  1    93.75  3.232759  3.250  6.50  1.00  1.345380  2.0000  3.250  4.2500\n",
       "   2    31.75  3.527778  3.500  6.25  2.00  1.346005  2.2500  3.500  4.2500\n",
       "   2NT  38.00  3.454545  3.500  4.75  2.00  0.871377  2.8750  3.500  4.1250\n",
       "A1 1     4.75  2.375000  2.375  2.75  2.00  0.375000  2.1875  2.375  2.5625\n",
       "   2NT  12.75  3.187500  3.250  4.25  2.00  0.797947  2.9375  3.250  3.5000\n",
       "B  1    25.75  3.218750  3.375  4.50  1.75  0.804650  3.0000  3.375  3.5625\n",
       "   2NT   3.75  3.750000  3.750  3.75  3.75  0.000000  3.7500  3.750  3.7500\n",
       "C  1    43.50  5.437500  5.250  7.00  4.75  0.681795  5.0000  5.250  5.4375\n",
       "   2    11.50  5.750000  5.750  6.50  5.00  0.750000  5.3750  5.750  6.1250\n",
       "   2NT  24.25  6.062500  6.000  7.00  5.25  0.817294  5.2500  6.000  6.8125\n",
       "D1 1    46.75  3.596154  3.500  5.75  1.50  1.215044  2.7500  3.500  4.2500\n",
       "   2    33.75  4.218750  4.500  6.75  1.25  1.512642  3.5625  4.500  5.0000\n",
       "   2NT   3.75  3.750000  3.750  3.75  3.75  0.000000  3.7500  3.750  3.7500"
      ]
     },
     "execution_count": 15,
     "metadata": {},
     "output_type": "execute_result"
    }
   ],
   "source": [
    "pd.pivot_table(data=data, index=[\"KT\", \"KV\"], values=\"DH1\", aggfunc=['sum', 'mean', 'median', 'max', 'min', std, Q1, Q2, Q3])"
   ]
  },
  {
   "cell_type": "markdown",
   "metadata": {},
   "source": [
    "5. Hãy tạo pivot-table để thống kê các giá trị count, sum, mean, median, min, max, std, Q1, Q2 và Q3 của DH1 theo KT, KV và DT"
   ]
  },
  {
   "cell_type": "code",
   "execution_count": 16,
   "metadata": {},
   "outputs": [
    {
     "data": {
      "text/html": [
       "<div>\n",
       "<style scoped>\n",
       "    .dataframe tbody tr th:only-of-type {\n",
       "        vertical-align: middle;\n",
       "    }\n",
       "\n",
       "    .dataframe tbody tr th {\n",
       "        vertical-align: top;\n",
       "    }\n",
       "\n",
       "    .dataframe thead tr th {\n",
       "        text-align: left;\n",
       "    }\n",
       "\n",
       "    .dataframe thead tr:last-of-type th {\n",
       "        text-align: right;\n",
       "    }\n",
       "</style>\n",
       "<table border=\"1\" class=\"dataframe\">\n",
       "  <thead>\n",
       "    <tr>\n",
       "      <th></th>\n",
       "      <th></th>\n",
       "      <th></th>\n",
       "      <th>sum</th>\n",
       "      <th>mean</th>\n",
       "      <th>median</th>\n",
       "      <th>max</th>\n",
       "      <th>min</th>\n",
       "      <th>std</th>\n",
       "      <th>Q1</th>\n",
       "      <th>Q2</th>\n",
       "      <th>Q3</th>\n",
       "    </tr>\n",
       "    <tr>\n",
       "      <th></th>\n",
       "      <th></th>\n",
       "      <th></th>\n",
       "      <th>DH1</th>\n",
       "      <th>DH1</th>\n",
       "      <th>DH1</th>\n",
       "      <th>DH1</th>\n",
       "      <th>DH1</th>\n",
       "      <th>DH1</th>\n",
       "      <th>DH1</th>\n",
       "      <th>DH1</th>\n",
       "      <th>DH1</th>\n",
       "    </tr>\n",
       "    <tr>\n",
       "      <th>KT</th>\n",
       "      <th>KV</th>\n",
       "      <th>DT</th>\n",
       "      <th></th>\n",
       "      <th></th>\n",
       "      <th></th>\n",
       "      <th></th>\n",
       "      <th></th>\n",
       "      <th></th>\n",
       "      <th></th>\n",
       "      <th></th>\n",
       "      <th></th>\n",
       "    </tr>\n",
       "  </thead>\n",
       "  <tbody>\n",
       "    <tr>\n",
       "      <th rowspan=\"4\" valign=\"top\">A</th>\n",
       "      <th>1</th>\n",
       "      <th>0</th>\n",
       "      <td>93.75</td>\n",
       "      <td>3.232759</td>\n",
       "      <td>3.250</td>\n",
       "      <td>6.50</td>\n",
       "      <td>1.00</td>\n",
       "      <td>1.345380</td>\n",
       "      <td>2.0000</td>\n",
       "      <td>3.250</td>\n",
       "      <td>4.2500</td>\n",
       "    </tr>\n",
       "    <tr>\n",
       "      <th rowspan=\"2\" valign=\"top\">2</th>\n",
       "      <th>0</th>\n",
       "      <td>27.50</td>\n",
       "      <td>3.437500</td>\n",
       "      <td>3.000</td>\n",
       "      <td>6.25</td>\n",
       "      <td>2.00</td>\n",
       "      <td>1.401729</td>\n",
       "      <td>2.2500</td>\n",
       "      <td>3.000</td>\n",
       "      <td>4.1875</td>\n",
       "    </tr>\n",
       "    <tr>\n",
       "      <th>6</th>\n",
       "      <td>4.25</td>\n",
       "      <td>4.250000</td>\n",
       "      <td>4.250</td>\n",
       "      <td>4.25</td>\n",
       "      <td>4.25</td>\n",
       "      <td>0.000000</td>\n",
       "      <td>4.2500</td>\n",
       "      <td>4.250</td>\n",
       "      <td>4.2500</td>\n",
       "    </tr>\n",
       "    <tr>\n",
       "      <th>2NT</th>\n",
       "      <th>0</th>\n",
       "      <td>38.00</td>\n",
       "      <td>3.454545</td>\n",
       "      <td>3.500</td>\n",
       "      <td>4.75</td>\n",
       "      <td>2.00</td>\n",
       "      <td>0.871377</td>\n",
       "      <td>2.8750</td>\n",
       "      <td>3.500</td>\n",
       "      <td>4.1250</td>\n",
       "    </tr>\n",
       "    <tr>\n",
       "      <th rowspan=\"2\" valign=\"top\">A1</th>\n",
       "      <th>1</th>\n",
       "      <th>0</th>\n",
       "      <td>4.75</td>\n",
       "      <td>2.375000</td>\n",
       "      <td>2.375</td>\n",
       "      <td>2.75</td>\n",
       "      <td>2.00</td>\n",
       "      <td>0.375000</td>\n",
       "      <td>2.1875</td>\n",
       "      <td>2.375</td>\n",
       "      <td>2.5625</td>\n",
       "    </tr>\n",
       "    <tr>\n",
       "      <th>2NT</th>\n",
       "      <th>0</th>\n",
       "      <td>12.75</td>\n",
       "      <td>3.187500</td>\n",
       "      <td>3.250</td>\n",
       "      <td>4.25</td>\n",
       "      <td>2.00</td>\n",
       "      <td>0.797947</td>\n",
       "      <td>2.9375</td>\n",
       "      <td>3.250</td>\n",
       "      <td>3.5000</td>\n",
       "    </tr>\n",
       "    <tr>\n",
       "      <th rowspan=\"2\" valign=\"top\">B</th>\n",
       "      <th>1</th>\n",
       "      <th>0</th>\n",
       "      <td>25.75</td>\n",
       "      <td>3.218750</td>\n",
       "      <td>3.375</td>\n",
       "      <td>4.50</td>\n",
       "      <td>1.75</td>\n",
       "      <td>0.804650</td>\n",
       "      <td>3.0000</td>\n",
       "      <td>3.375</td>\n",
       "      <td>3.5625</td>\n",
       "    </tr>\n",
       "    <tr>\n",
       "      <th>2NT</th>\n",
       "      <th>0</th>\n",
       "      <td>3.75</td>\n",
       "      <td>3.750000</td>\n",
       "      <td>3.750</td>\n",
       "      <td>3.75</td>\n",
       "      <td>3.75</td>\n",
       "      <td>0.000000</td>\n",
       "      <td>3.7500</td>\n",
       "      <td>3.750</td>\n",
       "      <td>3.7500</td>\n",
       "    </tr>\n",
       "    <tr>\n",
       "      <th rowspan=\"3\" valign=\"top\">C</th>\n",
       "      <th>1</th>\n",
       "      <th>0</th>\n",
       "      <td>43.50</td>\n",
       "      <td>5.437500</td>\n",
       "      <td>5.250</td>\n",
       "      <td>7.00</td>\n",
       "      <td>4.75</td>\n",
       "      <td>0.681795</td>\n",
       "      <td>5.0000</td>\n",
       "      <td>5.250</td>\n",
       "      <td>5.4375</td>\n",
       "    </tr>\n",
       "    <tr>\n",
       "      <th>2</th>\n",
       "      <th>0</th>\n",
       "      <td>11.50</td>\n",
       "      <td>5.750000</td>\n",
       "      <td>5.750</td>\n",
       "      <td>6.50</td>\n",
       "      <td>5.00</td>\n",
       "      <td>0.750000</td>\n",
       "      <td>5.3750</td>\n",
       "      <td>5.750</td>\n",
       "      <td>6.1250</td>\n",
       "    </tr>\n",
       "    <tr>\n",
       "      <th>2NT</th>\n",
       "      <th>0</th>\n",
       "      <td>24.25</td>\n",
       "      <td>6.062500</td>\n",
       "      <td>6.000</td>\n",
       "      <td>7.00</td>\n",
       "      <td>5.25</td>\n",
       "      <td>0.817294</td>\n",
       "      <td>5.2500</td>\n",
       "      <td>6.000</td>\n",
       "      <td>6.8125</td>\n",
       "    </tr>\n",
       "    <tr>\n",
       "      <th rowspan=\"5\" valign=\"top\">D1</th>\n",
       "      <th rowspan=\"2\" valign=\"top\">1</th>\n",
       "      <th>0</th>\n",
       "      <td>43.75</td>\n",
       "      <td>3.645833</td>\n",
       "      <td>3.625</td>\n",
       "      <td>5.75</td>\n",
       "      <td>1.50</td>\n",
       "      <td>1.251908</td>\n",
       "      <td>2.6875</td>\n",
       "      <td>3.625</td>\n",
       "      <td>4.4375</td>\n",
       "    </tr>\n",
       "    <tr>\n",
       "      <th>1</th>\n",
       "      <td>3.00</td>\n",
       "      <td>3.000000</td>\n",
       "      <td>3.000</td>\n",
       "      <td>3.00</td>\n",
       "      <td>3.00</td>\n",
       "      <td>0.000000</td>\n",
       "      <td>3.0000</td>\n",
       "      <td>3.000</td>\n",
       "      <td>3.0000</td>\n",
       "    </tr>\n",
       "    <tr>\n",
       "      <th rowspan=\"2\" valign=\"top\">2</th>\n",
       "      <th>0</th>\n",
       "      <td>32.50</td>\n",
       "      <td>4.642857</td>\n",
       "      <td>4.500</td>\n",
       "      <td>6.75</td>\n",
       "      <td>3.00</td>\n",
       "      <td>1.084445</td>\n",
       "      <td>4.1250</td>\n",
       "      <td>4.500</td>\n",
       "      <td>5.0000</td>\n",
       "    </tr>\n",
       "    <tr>\n",
       "      <th>1</th>\n",
       "      <td>1.25</td>\n",
       "      <td>1.250000</td>\n",
       "      <td>1.250</td>\n",
       "      <td>1.25</td>\n",
       "      <td>1.25</td>\n",
       "      <td>0.000000</td>\n",
       "      <td>1.2500</td>\n",
       "      <td>1.250</td>\n",
       "      <td>1.2500</td>\n",
       "    </tr>\n",
       "    <tr>\n",
       "      <th>2NT</th>\n",
       "      <th>0</th>\n",
       "      <td>3.75</td>\n",
       "      <td>3.750000</td>\n",
       "      <td>3.750</td>\n",
       "      <td>3.75</td>\n",
       "      <td>3.75</td>\n",
       "      <td>0.000000</td>\n",
       "      <td>3.7500</td>\n",
       "      <td>3.750</td>\n",
       "      <td>3.7500</td>\n",
       "    </tr>\n",
       "  </tbody>\n",
       "</table>\n",
       "</div>"
      ],
      "text/plain": [
       "             sum      mean median   max   min       std      Q1     Q2      Q3\n",
       "             DH1       DH1    DH1   DH1   DH1       DH1     DH1    DH1     DH1\n",
       "KT KV  DT                                                                     \n",
       "A  1   0   93.75  3.232759  3.250  6.50  1.00  1.345380  2.0000  3.250  4.2500\n",
       "   2   0   27.50  3.437500  3.000  6.25  2.00  1.401729  2.2500  3.000  4.1875\n",
       "       6    4.25  4.250000  4.250  4.25  4.25  0.000000  4.2500  4.250  4.2500\n",
       "   2NT 0   38.00  3.454545  3.500  4.75  2.00  0.871377  2.8750  3.500  4.1250\n",
       "A1 1   0    4.75  2.375000  2.375  2.75  2.00  0.375000  2.1875  2.375  2.5625\n",
       "   2NT 0   12.75  3.187500  3.250  4.25  2.00  0.797947  2.9375  3.250  3.5000\n",
       "B  1   0   25.75  3.218750  3.375  4.50  1.75  0.804650  3.0000  3.375  3.5625\n",
       "   2NT 0    3.75  3.750000  3.750  3.75  3.75  0.000000  3.7500  3.750  3.7500\n",
       "C  1   0   43.50  5.437500  5.250  7.00  4.75  0.681795  5.0000  5.250  5.4375\n",
       "   2   0   11.50  5.750000  5.750  6.50  5.00  0.750000  5.3750  5.750  6.1250\n",
       "   2NT 0   24.25  6.062500  6.000  7.00  5.25  0.817294  5.2500  6.000  6.8125\n",
       "D1 1   0   43.75  3.645833  3.625  5.75  1.50  1.251908  2.6875  3.625  4.4375\n",
       "       1    3.00  3.000000  3.000  3.00  3.00  0.000000  3.0000  3.000  3.0000\n",
       "   2   0   32.50  4.642857  4.500  6.75  3.00  1.084445  4.1250  4.500  5.0000\n",
       "       1    1.25  1.250000  1.250  1.25  1.25  0.000000  1.2500  1.250  1.2500\n",
       "   2NT 0    3.75  3.750000  3.750  3.75  3.75  0.000000  3.7500  3.750  3.7500"
      ]
     },
     "execution_count": 16,
     "metadata": {},
     "output_type": "execute_result"
    }
   ],
   "source": [
    "pd.pivot_table(data=data, index=[\"KT\", \"KV\", \"DT\"], values=\"DH1\", aggfunc=['sum', 'mean', 'median', 'max', 'min', std, Q1, Q2, Q3])"
   ]
  },
  {
   "cell_type": "markdown",
   "metadata": {},
   "source": [
    "Hàm \"pivot_table()\" trong Pandas dùng để tạo bảng tổng hợp từ dữ liêuj hiện có. Cho phép chúng ta tóm tắt, nhóm và tổng hợp data theo nhiều chiều khác nhau. \n",
    "- data: DataFrame cần tạo bảng tổng hợp.\n",
    "- values: Cột hoặc các cột có giá trị cần tổng hợp.\n",
    "- index: Cột hoặc các cột sẽ được sử dụng làm hàng của bảng tổng hợp.\n",
    "- columns: Cột hoặc các cột sẽ được sử dụng làm cột của bảng tổng hợp.\n",
    "- aggfunc: Hàm tổng hợp hoặc danh sách các hàm tổng hợp (mặc định là 'mean')."
   ]
  },
  {
   "cell_type": "markdown",
   "metadata": {},
   "source": [
    "PHẦN 2: TRÌNH BÀY DỮ LIỆU"
   ]
  },
  {
   "cell_type": "markdown",
   "metadata": {},
   "source": [
    "1. Hãy trình bày dữ liệu biến: GT"
   ]
  },
  {
   "cell_type": "code",
   "execution_count": 21,
   "metadata": {},
   "outputs": [
    {
     "data": {
      "text/plain": [
       "<AxesSubplot:xlabel='GT'>"
      ]
     },
     "execution_count": 21,
     "metadata": {},
     "output_type": "execute_result"
    },
    {
     "data": {
      "image/png": "[encoded data removed]",
      "text/plain": [
       "<Figure size 432x288 with 1 Axes>"
      ]
     },
     "metadata": {
      "needs_background": "light"
     },
     "output_type": "display_data"
    }
   ],
   "source": [
    "new_data_1 = data.groupby('GT')['GT'].agg('count')\n",
    "new_data_1.plot.bar()\n"
   ]
  },
  {
   "cell_type": "markdown",
   "metadata": {},
   "source": [
    "- data.groupby('GT'): Nhóm dữ liệu theo giá trị trong cột 'GT'.\n",
    "- ['GT'].agg('count'): Đếm số lượng các mục trong mỗi nhóm.\n",
    "- plot.bar(): Vẽ biểu đồ cột từ dữ liệu đã tổng hợp."
   ]
  },
  {
   "cell_type": "code",
   "execution_count": 22,
   "metadata": {},
   "outputs": [
    {
     "data": {
      "text/plain": [
       "<AxesSubplot:ylabel='GT'>"
      ]
     },
     "execution_count": 22,
     "metadata": {},
     "output_type": "execute_result"
    },
    {
     "data": {
      "image/png": "[encoded data removed]",
      "text/plain": [
       "<Figure size 432x288 with 1 Axes>"
      ]
     },
     "metadata": {},
     "output_type": "display_data"
    }
   ],
   "source": [
    "new_data_1.plot.pie()"
   ]
  },
  {
   "cell_type": "markdown",
   "metadata": {},
   "source": [
    "- \"plot.pie()\": Dùng để vẽ biểu đồ tròn"
   ]
  },
  {
   "cell_type": "code",
   "execution_count": 23,
   "metadata": {},
   "outputs": [
    {
     "data": {
      "text/plain": [
       "<AxesSubplot:xlabel='GT'>"
      ]
     },
     "execution_count": 23,
     "metadata": {},
     "output_type": "execute_result"
    },
    {
     "data": {
      "image/png": "[encoded data removed]",
      "text/plain": [
       "<Figure size 432x288 with 1 Axes>"
      ]
     },
     "metadata": {
      "needs_background": "light"
     },
     "output_type": "display_data"
    }
   ],
   "source": [
    "new_data_1.plot.area()"
   ]
  },
  {
   "cell_type": "markdown",
   "metadata": {},
   "source": [
    "2. Hãy trình bày dữ liệu lần lượt các biến: US_TBM1, US_TBM2 và US_TBM3"
   ]
  },
  {
   "cell_type": "code",
   "execution_count": 24,
   "metadata": {},
   "outputs": [
    {
     "data": {
      "text/html": [
       "<div>\n",
       "<style scoped>\n",
       "    .dataframe tbody tr th:only-of-type {\n",
       "        vertical-align: middle;\n",
       "    }\n",
       "\n",
       "    .dataframe tbody tr th {\n",
       "        vertical-align: top;\n",
       "    }\n",
       "\n",
       "    .dataframe thead th {\n",
       "        text-align: right;\n",
       "    }\n",
       "</style>\n",
       "<table border=\"1\" class=\"dataframe\">\n",
       "  <thead>\n",
       "    <tr style=\"text-align: right;\">\n",
       "      <th></th>\n",
       "      <th>US_TBM1</th>\n",
       "      <th>US_TBM2</th>\n",
       "      <th>US_TBM3</th>\n",
       "    </tr>\n",
       "  </thead>\n",
       "  <tbody>\n",
       "    <tr>\n",
       "      <th>count</th>\n",
       "      <td>100.000000</td>\n",
       "      <td>100.000000</td>\n",
       "      <td>100.00000</td>\n",
       "    </tr>\n",
       "    <tr>\n",
       "      <th>mean</th>\n",
       "      <td>2.434480</td>\n",
       "      <td>2.559600</td>\n",
       "      <td>2.67176</td>\n",
       "    </tr>\n",
       "    <tr>\n",
       "      <th>std</th>\n",
       "      <td>0.391203</td>\n",
       "      <td>0.377656</td>\n",
       "      <td>0.29981</td>\n",
       "    </tr>\n",
       "    <tr>\n",
       "      <th>min</th>\n",
       "      <td>1.616000</td>\n",
       "      <td>1.768000</td>\n",
       "      <td>1.91600</td>\n",
       "    </tr>\n",
       "    <tr>\n",
       "      <th>25%</th>\n",
       "      <td>2.107000</td>\n",
       "      <td>2.223000</td>\n",
       "      <td>2.47300</td>\n",
       "    </tr>\n",
       "    <tr>\n",
       "      <th>50%</th>\n",
       "      <td>2.480000</td>\n",
       "      <td>2.588000</td>\n",
       "      <td>2.70600</td>\n",
       "    </tr>\n",
       "    <tr>\n",
       "      <th>75%</th>\n",
       "      <td>2.724000</td>\n",
       "      <td>2.893000</td>\n",
       "      <td>2.87400</td>\n",
       "    </tr>\n",
       "    <tr>\n",
       "      <th>max</th>\n",
       "      <td>3.232000</td>\n",
       "      <td>3.416000</td>\n",
       "      <td>3.31600</td>\n",
       "    </tr>\n",
       "  </tbody>\n",
       "</table>\n",
       "</div>"
      ],
      "text/plain": [
       "          US_TBM1     US_TBM2    US_TBM3\n",
       "count  100.000000  100.000000  100.00000\n",
       "mean     2.434480    2.559600    2.67176\n",
       "std      0.391203    0.377656    0.29981\n",
       "min      1.616000    1.768000    1.91600\n",
       "25%      2.107000    2.223000    2.47300\n",
       "50%      2.480000    2.588000    2.70600\n",
       "75%      2.724000    2.893000    2.87400\n",
       "max      3.232000    3.416000    3.31600"
      ]
     },
     "execution_count": 24,
     "metadata": {},
     "output_type": "execute_result"
    }
   ],
   "source": [
    "new_data_2 = pd.DataFrame(data, columns=['US_TBM1', 'US_TBM2', 'US_TBM3'])\n",
    "new_data_2.describe()"
   ]
  },
  {
   "cell_type": "markdown",
   "metadata": {},
   "source": [
    "- Hàm \"describe()\": Dùng để thống kê mô tả tổng quát của các cột trong data"
   ]
  },
  {
   "cell_type": "markdown",
   "metadata": {},
   "source": [
    "3. Hãy trình bày dữ liệu biến DT với các học sinh là nam"
   ]
  },
  {
   "cell_type": "code",
   "execution_count": 26,
   "metadata": {},
   "outputs": [
    {
     "data": {
      "text/plain": [
       "DT\n",
       "0    50\n",
       "1     1\n",
       "6     1\n",
       "Name: DT, dtype: int64"
      ]
     },
     "execution_count": 26,
     "metadata": {},
     "output_type": "execute_result"
    }
   ],
   "source": [
    "new_data_3 = data[data['GT'] == 'M']\n",
    "new_data_3.groupby(('DT'))['DT'].agg('count')"
   ]
  },
  {
   "cell_type": "markdown",
   "metadata": {},
   "source": [
    "- data.groupby('GT'): Nhóm dữ liệu theo giá trị trong cột 'GT' có giá trị là \"M\".\n",
    "- ['DT'].agg('count'): Đếm số lượng các mục trong mỗi nhóm."
   ]
  },
  {
   "cell_type": "markdown",
   "metadata": {},
   "source": [
    "4. Hãy trình bày dữ liệu biến KV với các học sinh là nam thuộc dân tộc Kinh, có điểm thỏa \n",
    "mãn điều kiện (DH1 >= 5.0 và DH2 >= 4.0 và DH3 >= 4.0)"
   ]
  },
  {
   "cell_type": "code",
   "execution_count": 27,
   "metadata": {},
   "outputs": [
    {
     "data": {
      "text/plain": [
       "Series([], Name: KV, dtype: int64)"
      ]
     },
     "execution_count": 27,
     "metadata": {},
     "output_type": "execute_result"
    }
   ],
   "source": [
    "new_data_4 = data[(data[\"GT\"] == \"M\") &  (data[\"DT\"] == 1) & (data[\"DH1\"] >= 5.0) & (data[\"DH2\"] >= 4.0) & (data[\"DH3\"] >= 4.0)]\n",
    "new_data_4.groupby(\"KV\")[\"KV\"].agg('count')"
   ]
  },
  {
   "cell_type": "markdown",
   "metadata": {},
   "source": [
    "- Lọc dữ liệu:\n",
    "data[\"GT\"] == \"M\": Lọc các dòng có giá trị 'GT' là 'M'.\n",
    "data[\"DT\"] == 1: Lọc các dòng có giá trị 'DT' là 1.\n",
    "data[\"DH1\"] >= 5.0, data[\"DH2\"] >= 4.0, data[\"DH3\"] >= 4.0: Lọc các dòng có giá trị của 'DH1', 'DH2', 'DH3' lớn hơn hoặc bằng 5.0, 4.0 và 4.0 tương ứng.\n",
    "\n",
    "- Nhóm dữ liệu và đếm số lượng:\n",
    "new_data_4.groupby(\"KV\"): Nhóm các dòng của new_data_4 theo giá trị trong cột 'KV'.\n",
    "[\"KV\"].agg('count'): Áp dụng hàm tổng hợp count để đếm số lượng dòng trong mỗi nhóm của cột 'KV'."
   ]
  },
  {
   "cell_type": "markdown",
   "metadata": {},
   "source": [
    "5. Hãy trình bày dữ liệu lần lượt các biến DH1, DH2, DH3 lớn hơn bằng 5.0 và thuộc khu vực 2NT"
   ]
  },
  {
   "cell_type": "code",
   "execution_count": 28,
   "metadata": {},
   "outputs": [
    {
     "data": {
      "text/html": [
       "<div>\n",
       "<style scoped>\n",
       "    .dataframe tbody tr th:only-of-type {\n",
       "        vertical-align: middle;\n",
       "    }\n",
       "\n",
       "    .dataframe tbody tr th {\n",
       "        vertical-align: top;\n",
       "    }\n",
       "\n",
       "    .dataframe thead th {\n",
       "        text-align: right;\n",
       "    }\n",
       "</style>\n",
       "<table border=\"1\" class=\"dataframe\">\n",
       "  <thead>\n",
       "    <tr style=\"text-align: right;\">\n",
       "      <th></th>\n",
       "      <th>DH1</th>\n",
       "      <th>DH2</th>\n",
       "      <th>DH3</th>\n",
       "    </tr>\n",
       "  </thead>\n",
       "  <tbody>\n",
       "    <tr>\n",
       "      <th>count</th>\n",
       "      <td>1.00</td>\n",
       "      <td>1.00</td>\n",
       "      <td>1.0</td>\n",
       "    </tr>\n",
       "    <tr>\n",
       "      <th>mean</th>\n",
       "      <td>6.75</td>\n",
       "      <td>5.25</td>\n",
       "      <td>5.0</td>\n",
       "    </tr>\n",
       "    <tr>\n",
       "      <th>std</th>\n",
       "      <td>NaN</td>\n",
       "      <td>NaN</td>\n",
       "      <td>NaN</td>\n",
       "    </tr>\n",
       "    <tr>\n",
       "      <th>min</th>\n",
       "      <td>6.75</td>\n",
       "      <td>5.25</td>\n",
       "      <td>5.0</td>\n",
       "    </tr>\n",
       "    <tr>\n",
       "      <th>25%</th>\n",
       "      <td>6.75</td>\n",
       "      <td>5.25</td>\n",
       "      <td>5.0</td>\n",
       "    </tr>\n",
       "    <tr>\n",
       "      <th>50%</th>\n",
       "      <td>6.75</td>\n",
       "      <td>5.25</td>\n",
       "      <td>5.0</td>\n",
       "    </tr>\n",
       "    <tr>\n",
       "      <th>75%</th>\n",
       "      <td>6.75</td>\n",
       "      <td>5.25</td>\n",
       "      <td>5.0</td>\n",
       "    </tr>\n",
       "    <tr>\n",
       "      <th>max</th>\n",
       "      <td>6.75</td>\n",
       "      <td>5.25</td>\n",
       "      <td>5.0</td>\n",
       "    </tr>\n",
       "  </tbody>\n",
       "</table>\n",
       "</div>"
      ],
      "text/plain": [
       "        DH1   DH2  DH3\n",
       "count  1.00  1.00  1.0\n",
       "mean   6.75  5.25  5.0\n",
       "std     NaN   NaN  NaN\n",
       "min    6.75  5.25  5.0\n",
       "25%    6.75  5.25  5.0\n",
       "50%    6.75  5.25  5.0\n",
       "75%    6.75  5.25  5.0\n",
       "max    6.75  5.25  5.0"
      ]
     },
     "execution_count": 28,
     "metadata": {},
     "output_type": "execute_result"
    }
   ],
   "source": [
    "new_data_5 = pd.DataFrame(data[(data[\"DH1\"] >= 5.0) & (data[\"DH2\"] >= 5.0) & (data[\"DH3\"] >= 5.0) & (data[\"KV\"] == \"2NT\")],columns=[\"DH1\",\"DH2\",\"DH3\"])\n",
    "new_data_5.describe()"
   ]
  },
  {
   "cell_type": "markdown",
   "metadata": {},
   "source": [
    "- Lọc dữ liệu:\n",
    "(data[\"DH1\"] >= 5.0) & (data[\"DH2\"] >= 5.0) & (data[\"DH3\"] >= 5.0): Lọc các dòng có giá trị của 'DH1', 'DH2', 'DH3' lớn hơn hoặc bằng 5.0.\n",
    "(data[\"KV\"] == \"2NT\"): Lọc các dòng có giá trị của 'KV' là \"2NT\".- Lọc dữ liệu \n",
    "- Tính tóan các thống kê:\n",
    "describe(): Phương thức này của DataFrame tính toán các thống kê mô tả tổng quát của các cột số trong DataFrame new_data_5."
   ]
  },
  {
   "cell_type": "markdown",
   "metadata": {},
   "source": [
    "Phần 3: Trực quan hóa dữ liệu theo nhóm phân loại"
   ]
  },
  {
   "cell_type": "markdown",
   "metadata": {},
   "source": [
    "1. Trực quan dữ liệu học sinh nữ trên các nhóm XL1, XL2, XL3 dạng unstacked"
   ]
  },
  {
   "cell_type": "code",
   "execution_count": 29,
   "metadata": {},
   "outputs": [
    {
     "data": {
      "text/html": [
       "<div>\n",
       "<style scoped>\n",
       "    .dataframe tbody tr th:only-of-type {\n",
       "        vertical-align: middle;\n",
       "    }\n",
       "\n",
       "    .dataframe tbody tr th {\n",
       "        vertical-align: top;\n",
       "    }\n",
       "\n",
       "    .dataframe thead tr th {\n",
       "        text-align: left;\n",
       "    }\n",
       "\n",
       "    .dataframe thead tr:last-of-type th {\n",
       "        text-align: right;\n",
       "    }\n",
       "</style>\n",
       "<table border=\"1\" class=\"dataframe\">\n",
       "  <thead>\n",
       "    <tr>\n",
       "      <th></th>\n",
       "      <th></th>\n",
       "      <th colspan=\"3\" halign=\"left\">GT</th>\n",
       "    </tr>\n",
       "    <tr>\n",
       "      <th></th>\n",
       "      <th>XL3</th>\n",
       "      <th>G</th>\n",
       "      <th>K</th>\n",
       "      <th>TB</th>\n",
       "    </tr>\n",
       "    <tr>\n",
       "      <th>XL1</th>\n",
       "      <th>XL2</th>\n",
       "      <th></th>\n",
       "      <th></th>\n",
       "      <th></th>\n",
       "    </tr>\n",
       "  </thead>\n",
       "  <tbody>\n",
       "    <tr>\n",
       "      <th>G</th>\n",
       "      <th>G</th>\n",
       "      <td>1.0</td>\n",
       "      <td>NaN</td>\n",
       "      <td>NaN</td>\n",
       "    </tr>\n",
       "    <tr>\n",
       "      <th rowspan=\"3\" valign=\"top\">K</th>\n",
       "      <th>G</th>\n",
       "      <td>NaN</td>\n",
       "      <td>1.0</td>\n",
       "      <td>NaN</td>\n",
       "    </tr>\n",
       "    <tr>\n",
       "      <th>K</th>\n",
       "      <td>NaN</td>\n",
       "      <td>20.0</td>\n",
       "      <td>1.0</td>\n",
       "    </tr>\n",
       "    <tr>\n",
       "      <th>TB</th>\n",
       "      <td>NaN</td>\n",
       "      <td>2.0</td>\n",
       "      <td>NaN</td>\n",
       "    </tr>\n",
       "    <tr>\n",
       "      <th rowspan=\"2\" valign=\"top\">TB</th>\n",
       "      <th>K</th>\n",
       "      <td>NaN</td>\n",
       "      <td>8.0</td>\n",
       "      <td>1.0</td>\n",
       "    </tr>\n",
       "    <tr>\n",
       "      <th>TB</th>\n",
       "      <td>NaN</td>\n",
       "      <td>3.0</td>\n",
       "      <td>6.0</td>\n",
       "    </tr>\n",
       "    <tr>\n",
       "      <th rowspan=\"2\" valign=\"top\">Y</th>\n",
       "      <th>TB</th>\n",
       "      <td>NaN</td>\n",
       "      <td>1.0</td>\n",
       "      <td>3.0</td>\n",
       "    </tr>\n",
       "    <tr>\n",
       "      <th>Y</th>\n",
       "      <td>NaN</td>\n",
       "      <td>NaN</td>\n",
       "      <td>1.0</td>\n",
       "    </tr>\n",
       "  </tbody>\n",
       "</table>\n",
       "</div>"
      ],
      "text/plain": [
       "          GT           \n",
       "XL3        G     K   TB\n",
       "XL1 XL2                \n",
       "G   G    1.0   NaN  NaN\n",
       "K   G    NaN   1.0  NaN\n",
       "    K    NaN  20.0  1.0\n",
       "    TB   NaN   2.0  NaN\n",
       "TB  K    NaN   8.0  1.0\n",
       "    TB   NaN   3.0  6.0\n",
       "Y   TB   NaN   1.0  3.0\n",
       "    Y    NaN   NaN  1.0"
      ]
     },
     "execution_count": 29,
     "metadata": {},
     "output_type": "execute_result"
    }
   ],
   "source": [
    "new_data_31 = data[data[\"GT\"]==\"F\"].groupby([\"XL1\",\"XL2\",\"XL3\"])[[\"GT\"]].count()\n",
    "new_data_31.unstack()"
   ]
  },
  {
   "cell_type": "markdown",
   "metadata": {},
   "source": [
    "- \"data[data[\"GT\"]==\"F\"]\": Lọc các dòng trong data mà cột \"GT\" có giá trị là \"F\".\n",
    "- \"groupby([\"XL1\",\"XL2\",\"XL3\"])\": Nhóm các dòng đã lọc theo các cột 'XL1', 'XL2', 'XL3'.\n",
    "- \"[[\"GT\"]]\": Chỉ chọn cột này để tính toán.\n",
    "- \"counnt()\": Đếm số lượng dòng trong từng nhóm.\n",
    "- \"new_data_31.unstack()\": Kết quả là 1 data mới, trong đó các cột (XL1, XL2, XL3) được chuyển thành các cột."
   ]
  },
  {
   "cell_type": "code",
   "execution_count": 30,
   "metadata": {},
   "outputs": [
    {
     "data": {
      "text/plain": [
       "<AxesSubplot:xlabel='XL1,XL2,XL3'>"
      ]
     },
     "execution_count": 30,
     "metadata": {},
     "output_type": "execute_result"
    },
    {
     "data": {
      "image/png": "[encoded data removed]",
      "text/plain": [
       "<Figure size 432x288 with 1 Axes>"
      ]
     },
     "metadata": {
      "needs_background": "light"
     },
     "output_type": "display_data"
    }
   ],
   "source": [
    "new_data_31.plot.bar()"
   ]
  },
  {
   "cell_type": "markdown",
   "metadata": {},
   "source": [
    "- \"plot.bar()\": Vẻ biểu đồ cột."
   ]
  },
  {
   "cell_type": "markdown",
   "metadata": {},
   "source": [
    "2. Trực quan dữ liệu KQXT trên nhóm học sinh có khối thi A, A1, B thuộc khu vực 1, 2"
   ]
  },
  {
   "cell_type": "code",
   "execution_count": 40,
   "metadata": {},
   "outputs": [
    {
     "name": "stdout",
     "output_type": "stream",
     "text": [
      "Empty DataFrame\n",
      "Columns: [STT, T1, L1, H1, S1, V1, X1, D1, N1, T2, L2, H2, S2, V2, X2, D2, N2, T3, L3, H3, S3, V3, X3, D3, N3, T4, L4, H4, S4, V4, X4, D4, N4, T5, L5, H5, S5, V5, X5, D5, N5, T6, L6, H6, S6, V6, X6, D6, N6, GT, DT, KV, DH1, DH2, DH3, KT, TBM1, TBM2, TBM3, XL1, XL2, XL3, US_TBM1, US_TBM2, US_TBM3, KQXT]\n",
      "Index: []\n",
      "\n",
      "[0 rows x 66 columns]\n"
     ]
    }
   ],
   "source": [
    "new_data_32 = (data['KT'].isin(['A', 'A1', 'B'])) & (data['KV'].isin([1, 2]))\n",
    "filtered_data = data[new_data_32]\n",
    "print(filtered_data)"
   ]
  },
  {
   "cell_type": "markdown",
   "metadata": {},
   "source": [
    "- data['KT'].isin(['A', 'A1', 'B']): Điều kiện lọc các dòng trong cột 'KT' mà có giá trị là 'A', 'A1', hoặc 'B'.\n",
    "- data['KV'].isin([1, 2]): Điều kiện lọc các dòng trong cột 'KV' mà có giá trị là 1 hoặc 2.\n",
    "- data[new_data_32]: Lọc các dòng từ DataFrame data dựa trên điều kiện new_data_32.\n",
    "filtered_data: DataFrame mới chỉ chứa các dòng thỏa mãn điều kiện new_data_32."
   ]
  },
  {
   "cell_type": "markdown",
   "metadata": {},
   "source": [
    "3. Trực quan dữ liệu số lượng thí sinh từng khu vực dựa trên từng nhóm khối thi"
   ]
  },
  {
   "cell_type": "code",
   "execution_count": 52,
   "metadata": {},
   "outputs": [
    {
     "data": {
      "text/plain": [
       "<AxesSubplot:title={'center':'Số lượng thí sinh thi khối A trên từng khu vực'}, xlabel='KV'>"
      ]
     },
     "execution_count": 52,
     "metadata": {},
     "output_type": "execute_result"
    },
    {
     "data": {
      "image/png": "[encoded data removed]",
      "text/plain": [
       "<Figure size 432x288 with 1 Axes>"
      ]
     },
     "metadata": {
      "needs_background": "light"
     },
     "output_type": "display_data"
    }
   ],
   "source": [
    "data_KT_A = data[data[\"KT\"] == 'A']\n",
    "plt.title(\"Số lượng thí sinh thi khối A trên từng khu vực\")\n",
    "data_KT_A.groupby(\"KV\")[\"KV\"].agg('count').plot.bar()"
   ]
  },
  {
   "cell_type": "markdown",
   "metadata": {},
   "source": [
    "- data[\"KT\"] == 'A': Điều kiện lọc các dòng trong DataFrame data mà cột 'KT' có giá trị là 'A'.\n",
    "- data[data[\"KT\"] == 'A']: Lọc các dòng từ DataFrame data dựa trên điều kiện trên và gán vào biến data_KT_A.\n",
    "- groupby(\"KV\"): Nhóm các dòng của data_KT_A theo giá trị trong cột 'KV'.\n",
    "- [\"KV\"]: Chọn cột 'KV' để tính toán.\n",
    "- agg('count'): Áp dụng hàm tổng hợp count để đếm số lượng dòng trong mỗi nhóm của cột 'KV'.\n",
    "- plot.bar(): Vẽ biểu đồ cột."
   ]
  },
  {
   "cell_type": "code",
   "execution_count": 53,
   "metadata": {},
   "outputs": [
    {
     "data": {
      "text/plain": [
       "<AxesSubplot:title={'center':'Số lượng thí sinh thi khối A1 trên từng khu vực'}, xlabel='KV'>"
      ]
     },
     "execution_count": 53,
     "metadata": {},
     "output_type": "execute_result"
    },
    {
     "data": {
      "image/png": "[encoded data removed]",
      "text/plain": [
       "<Figure size 432x288 with 1 Axes>"
      ]
     },
     "metadata": {
      "needs_background": "light"
     },
     "output_type": "display_data"
    }
   ],
   "source": [
    "data_KT_A1 = data[data[\"KT\"] == 'A1']\n",
    "plt.title(\"Số lượng thí sinh thi khối A1 trên từng khu vực\")\n",
    "data_KT_A1.groupby(\"KV\")[\"KV\"].agg('count').plot.bar()"
   ]
  },
  {
   "cell_type": "markdown",
   "metadata": {},
   "source": [
    "- data[\"KT\"] == 'A1': Điều kiện lọc các dòng trong DataFrame data mà cột 'KT' có giá trị là 'A1'.\n",
    "- data[data[\"KT\"] == 'A1']: Lọc các dòng từ DataFrame data dựa trên điều kiện trên và gán vào biến data_KT_A1.\n",
    "- groupby(\"KV\"): Nhóm các dòng của data_KT_A1 theo giá trị trong cột 'KV'.\n",
    "- [\"KV\"]: Chọn cột 'KV' để tính toán.\n",
    "- agg('count'): Áp dụng hàm tổng hợp count để đếm số lượng dòng trong mỗi nhóm của cột 'KV'.\n",
    "- plot.bar(): Vẽ biểu đồ cột."
   ]
  },
  {
   "cell_type": "code",
   "execution_count": 54,
   "metadata": {},
   "outputs": [
    {
     "data": {
      "text/plain": [
       "<AxesSubplot:title={'center':'Số lượng thí sinh thi khối B trên từng khu vực'}, xlabel='KV'>"
      ]
     },
     "execution_count": 54,
     "metadata": {},
     "output_type": "execute_result"
    },
    {
     "data": {
      "image/png": "[encoded data removed]",
      "text/plain": [
       "<Figure size 432x288 with 1 Axes>"
      ]
     },
     "metadata": {
      "needs_background": "light"
     },
     "output_type": "display_data"
    }
   ],
   "source": [
    "data_KT_B = data[data[\"KT\"] == 'B']\n",
    "plt.title(\"Số lượng thí sinh thi khối B trên từng khu vực\")\n",
    "data_KT_B.groupby(\"KV\")[\"KV\"].agg('count').plot.bar()"
   ]
  },
  {
   "cell_type": "markdown",
   "metadata": {},
   "source": [
    "- data[\"KT\"] == 'B': Điều kiện lọc các dòng trong DataFrame data mà cột 'KT' có giá trị là 'B'.\n",
    "- data[data[\"KT\"] == 'B']: Lọc các dòng từ DataFrame data dựa trên điều kiện trên và gán vào biến data_KT_B.\n",
    "- groupby(\"KV\"): Nhóm các dòng của data_KT_B theo giá trị trong cột 'KV'.\n",
    "- [\"KV\"]: Chọn cột 'KV' để tính toán.\n",
    "- agg('count'): Áp dụng hàm tổng hợp count để đếm số lượng dòng trong mỗi nhóm của cột 'KV'.\n",
    "- plot.bar(): Vẽ biểu đồ cột."
   ]
  },
  {
   "cell_type": "code",
   "execution_count": 55,
   "metadata": {},
   "outputs": [
    {
     "data": {
      "text/plain": [
       "<AxesSubplot:title={'center':'Số lượng thí sinh thi khối C trên từng khu vực'}, xlabel='KV'>"
      ]
     },
     "execution_count": 55,
     "metadata": {},
     "output_type": "execute_result"
    },
    {
     "data": {
      "image/png": "[encoded data removed]",
      "text/plain": [
       "<Figure size 432x288 with 1 Axes>"
      ]
     },
     "metadata": {
      "needs_background": "light"
     },
     "output_type": "display_data"
    }
   ],
   "source": [
    "data_KT_C = data[data[\"KT\"] == 'C']\n",
    "plt.title(\"Số lượng thí sinh thi khối C trên từng khu vực\")\n",
    "data_KT_C.groupby(\"KV\")[\"KV\"].agg('count').plot.bar()"
   ]
  },
  {
   "cell_type": "markdown",
   "metadata": {},
   "source": [
    "- data[\"KT\"] == 'C': Điều kiện lọc các dòng trong DataFrame data mà cột 'KT' có giá trị là 'C'.\n",
    "- data[data[\"KT\"] == 'C']: Lọc các dòng từ DataFrame data dựa trên điều kiện trên và gán vào biến data_KT_C.\n",
    "- groupby(\"KV\"): Nhóm các dòng của data_KT_C theo giá trị trong cột 'KV'.\n",
    "- [\"KV\"]: Chọn cột 'KV' để tính toán.\n",
    "- agg('count'): Áp dụng hàm tổng hợp count để đếm số lượng dòng trong mỗi nhóm của cột 'KV'.\n",
    "- plot.bar(): Vẻ biểu đồ cột."
   ]
  },
  {
   "cell_type": "code",
   "execution_count": 56,
   "metadata": {},
   "outputs": [
    {
     "data": {
      "text/plain": [
       "<AxesSubplot:title={'center':'Số lượng thí sinh thi khối C trên từng khu vực'}, xlabel='KV'>"
      ]
     },
     "execution_count": 56,
     "metadata": {},
     "output_type": "execute_result"
    },
    {
     "data": {
      "image/png": "[encoded data removed]",
      "text/plain": [
       "<Figure size 432x288 with 1 Axes>"
      ]
     },
     "metadata": {
      "needs_background": "light"
     },
     "output_type": "display_data"
    }
   ],
   "source": [
    "data_KT_D = data[data[\"KT\"] == 'D1']\n",
    "plt.title(\"Số lượng thí sinh thi khối C trên từng khu vực\")\n",
    "data_KT_D.groupby(\"KV\")[\"KV\"].agg('count').plot.bar()"
   ]
  },
  {
   "cell_type": "markdown",
   "metadata": {},
   "source": [
    "- data[\"KT\"] == 'D1': Điều kiện lọc các dòng trong DataFrame data mà cột 'KT' có giá trị là 'D1'.\n",
    "- data[data[\"KT\"] == 'D1']: Lọc các dòng từ DataFrame data dựa trên điều kiện trên và gán vào biến data_KT_D.\n",
    "- groupby(\"KV\"): Nhóm các dòng của data_KT_D theo giá trị trong cột 'KV'.\n",
    "- [\"KV\"]: Chọn cột 'KV' để tính toán.\n",
    "- agg('count'): Áp dụng hàm tổng hợp count để đếm số lượng dòng trong mỗi nhóm của cột 'KV'.\n",
    "- plot.bar(): Vẻ biểu đồ cột."
   ]
  },
  {
   "cell_type": "markdown",
   "metadata": {},
   "source": [
    "4. Trực quan dữ liệu số lượng thí sinh đậu, rớt trên từng nhóm khối thi"
   ]
  },
  {
   "cell_type": "code",
   "execution_count": 64,
   "metadata": {},
   "outputs": [
    {
     "data": {
      "text/plain": [
       "<AxesSubplot:title={'center':'Số lượng thí sinh đậu trên từng khối thi'}, xlabel='KT'>"
      ]
     },
     "execution_count": 64,
     "metadata": {},
     "output_type": "execute_result"
    },
    {
     "data": {
      "image/png": "[encoded data removed]",
      "text/plain": [
       "<Figure size 432x288 with 1 Axes>"
      ]
     },
     "metadata": {
      "needs_background": "light"
     },
     "output_type": "display_data"
    }
   ],
   "source": [
    "data_pass_KT = data[data[\"KQXT\"] == 1]\n",
    "plt.title(\"Số lượng thí sinh đậu trên từng khối thi\")\n",
    "data_pass_KT.groupby(\"KT\")[\"KT\"].agg('count').plot.bar()"
   ]
  },
  {
   "cell_type": "markdown",
   "metadata": {},
   "source": [
    "- data[data[\"KQXT\"] == 1] thì thí sinh đậu.\n",
    "- groupby(\"KT\")[\"KT\"].agg('count'): Nhóm các dòng theo cột \"KT\" và tính toán theo cột \"KT\". Dùng hàm \"count\" để đếm số lượng dòng trong mỗi nhóm của cột \"KT\".\n",
    "- plot.bar(): Vẽ biểu đồ cột"
   ]
  },
  {
   "cell_type": "code",
   "execution_count": 65,
   "metadata": {},
   "outputs": [
    {
     "data": {
      "text/plain": [
       "<AxesSubplot:title={'center':'Số lượng thí sinh rớt trên từng khối thi'}, xlabel='KT'>"
      ]
     },
     "execution_count": 65,
     "metadata": {},
     "output_type": "execute_result"
    },
    {
     "data": {
      "image/png": "[encoded data removed]",
      "text/plain": [
       "<Figure size 432x288 with 1 Axes>"
      ]
     },
     "metadata": {
      "needs_background": "light"
     },
     "output_type": "display_data"
    }
   ],
   "source": [
    "data_fail_KT = data[data[\"KQXT\"] == 0]\n",
    "plt.title(\"Số lượng thí sinh rớt trên từng khối thi\")\n",
    "data_fail_KT.groupby(\"KT\")[\"KT\"].agg('count').plot.bar()"
   ]
  },
  {
   "cell_type": "markdown",
   "metadata": {},
   "source": [
    "- data[data[\"KQXT\"] == 0] thì thí sinh rớt.\n",
    "- groupby(\"KT\")[\"KT\"].agg('count'): Nhóm các dòng theo cột \"KT\" và tính toán theo cột \"KT\". Dùng hàm \"count\" để đếm số lượng dòng trong mỗi nhóm của cột \"KT\".\n",
    "- plot.bar(): Vẽ biểu đồ cột"
   ]
  },
  {
   "cell_type": "markdown",
   "metadata": {},
   "source": [
    "5. Trực quan dữ liệu số lượng thí sinh đậu rớt trên từng nhóm khu vực"
   ]
  },
  {
   "cell_type": "code",
   "execution_count": 62,
   "metadata": {},
   "outputs": [
    {
     "data": {
      "text/plain": [
       "<AxesSubplot:title={'center':'Số lượng thí sinh đậu trên từng khu vực'}, xlabel='KV'>"
      ]
     },
     "execution_count": 62,
     "metadata": {},
     "output_type": "execute_result"
    },
    {
     "data": {
      "image/png": "[encoded data removed]",
      "text/plain": [
       "<Figure size 432x288 with 1 Axes>"
      ]
     },
     "metadata": {
      "needs_background": "light"
     },
     "output_type": "display_data"
    }
   ],
   "source": [
    "data_pass_KV = data[(data[\"KQXT\"] == 1) ]\n",
    "plt.title(\"Số lượng thí sinh đậu trên từng khu vực\")\n",
    "data_pass_KV.groupby(\"KV\")[\"KV\"].agg('count').plot.bar()"
   ]
  },
  {
   "cell_type": "markdown",
   "metadata": {},
   "source": [
    "- data[data[\"KQXT\"] == 1] thì thí sinh đậu.\n",
    "- groupby(\"KV\")[\"KV\"].agg('count'): Nhóm các dòng theo cột \"KV\" và tính toán theo cột \"KV\". Dùng hàm \"count\" để đếm số lượng dòng trong mỗi nhóm của cột \"KV\".\n",
    "- plot.bar(): Vẽ biểu đồ cột"
   ]
  },
  {
   "cell_type": "code",
   "execution_count": 66,
   "metadata": {},
   "outputs": [
    {
     "data": {
      "text/plain": [
       "<AxesSubplot:title={'center':'Số lượng thí sinh rớt trên từng khu vực'}, xlabel='KV'>"
      ]
     },
     "execution_count": 66,
     "metadata": {},
     "output_type": "execute_result"
    },
    {
     "data": {
      "image/png": "[encoded data removed]",
      "text/plain": [
       "<Figure size 432x288 with 1 Axes>"
      ]
     },
     "metadata": {
      "needs_background": "light"
     },
     "output_type": "display_data"
    }
   ],
   "source": [
    "data_fail_KV = data[(data[\"KQXT\"] == 0) ]\n",
    "plt.title(\"Số lượng thí sinh rớt trên từng khu vực\")\n",
    "data_fail_KV.groupby(\"KV\")[\"KV\"].agg('count').plot.bar()"
   ]
  },
  {
   "cell_type": "markdown",
   "metadata": {},
   "source": [
    "- data[data[\"KQXT\"] == 0] thì thí sinh rớt.\n",
    "- groupby(\"KV\")[\"KV\"].agg('count'): Nhóm các dòng theo cột \"KV\" và tính toán theo cột \"KV\". Dùng hàm \"count\" để đếm số lượng dòng trong mỗi nhóm của cột \"KV\".\n",
    "- plot.bar(): Vẽ biểu đồ cột"
   ]
  },
  {
   "cell_type": "markdown",
   "metadata": {},
   "source": [
    "6. Trực quan dữ liệu số lượng thí sinh đậu rớt dựa trên từng nhóm dân tộc"
   ]
  },
  {
   "cell_type": "code",
   "execution_count": 68,
   "metadata": {},
   "outputs": [
    {
     "data": {
      "text/plain": [
       "<AxesSubplot:title={'center':'Số lựong thí sinh đậu trên từng nhóm dân tộc'}, xlabel='DT'>"
      ]
     },
     "execution_count": 68,
     "metadata": {},
     "output_type": "execute_result"
    },
    {
     "data": {
      "image/png": "[encoded data removed]",
      "text/plain": [
       "<Figure size 432x288 with 1 Axes>"
      ]
     },
     "metadata": {
      "needs_background": "light"
     },
     "output_type": "display_data"
    }
   ],
   "source": [
    "data_pass_DT = data[(data[\"KQXT\"] == 1)]\n",
    "plt.title(\"Số lựong thí sinh đậu trên từng nhóm dân tộc\")\n",
    "data_pass_DT.groupby(\"DT\")[\"DT\"].agg('count').plot.bar()"
   ]
  },
  {
   "cell_type": "markdown",
   "metadata": {},
   "source": [
    "- data[data[\"KQXT\"] == 1] thì thí sinh đậu.\n",
    "- groupby(\"DT\")[\"DT\"].agg('count'): Nhóm các dòng theo cột \"DT\" và tính toán theo cột \"DT\". Dùng hàm \"count\" để đếm số lượng dòng trong mỗi nhóm của cột \"KV\".\n",
    "- plot.bar(): Vẽ biểu đồ cột"
   ]
  },
  {
   "cell_type": "code",
   "execution_count": 70,
   "metadata": {},
   "outputs": [
    {
     "data": {
      "text/plain": [
       "<AxesSubplot:title={'center':'Số lựong thí sinh rớt trên từng nhóm dân tộc'}, xlabel='DT'>"
      ]
     },
     "execution_count": 70,
     "metadata": {},
     "output_type": "execute_result"
    },
    {
     "data": {
      "image/png": "[encoded data removed]",
      "text/plain": [
       "<Figure size 432x288 with 1 Axes>"
      ]
     },
     "metadata": {
      "needs_background": "light"
     },
     "output_type": "display_data"
    }
   ],
   "source": [
    "data_fail_DT = data[(data[\"KQXT\"] == 0)]\n",
    "plt.title(\"Số lựong thí sinh rớt trên từng nhóm dân tộc\")\n",
    "data_fail_DT.groupby(\"DT\")[\"DT\"].agg('count').plot.bar()"
   ]
  },
  {
   "cell_type": "markdown",
   "metadata": {},
   "source": [
    "- data[data[\"KQXT\"] == 0] thì thí sinh rớt.\n",
    "- groupby(\"DT\")[\"DT\"].agg('count'): Nhóm các dòng theo cột \"KV\" và tính toán theo cột \"DT\". Dùng hàm \"count\" để đếm số lượng dòng trong mỗi nhóm của cột \"DT\".\n",
    "- plot.bar(): Vẽ biểu đồ cột"
   ]
  },
  {
   "cell_type": "markdown",
   "metadata": {},
   "source": [
    "7. Trực quan dữ liệu số lượng thí sinh đậu rớt dựa trên từng nhóm giới tính."
   ]
  },
  {
   "cell_type": "code",
   "execution_count": 96,
   "metadata": {},
   "outputs": [
    {
     "data": {
      "text/plain": [
       "<AxesSubplot:title={'center':'Số lượng thí sinh thi đậu trên từng nhóm giới tính'}, xlabel='GT'>"
      ]
     },
     "execution_count": 96,
     "metadata": {},
     "output_type": "execute_result"
    },
    {
     "data": {
      "image/png": "[encoded data removed]",
      "text/plain": [
       "<Figure size 432x288 with 1 Axes>"
      ]
     },
     "metadata": {
      "needs_background": "light"
     },
     "output_type": "display_data"
    }
   ],
   "source": [
    "data_pass_GT= data[(data[\"KQXT\"] == 1)]\n",
    "plt.title(\"Số lượng thí sinh thi đậu trên từng nhóm giới tính\")\n",
    "data_pass_GT.groupby(\"GT\")[\"GT\"].agg('count').plot.bar()"
   ]
  },
  {
   "cell_type": "markdown",
   "metadata": {},
   "source": [
    "- data[data[\"KQXT\"] == 1] thì thí sinh đậu.\n",
    "- groupby(\"GT\")[\"GT\"].agg('count'): Nhóm các dòng theo cột \"KV\" và tính toán theo cột \"GT\". Dùng hàm \"count\" để đếm số lượng dòng trong mỗi nhóm của cột \"GT\".\n",
    "- plot.bar(): Vẽ biểu đồ cột"
   ]
  },
  {
   "cell_type": "code",
   "execution_count": 71,
   "metadata": {},
   "outputs": [
    {
     "data": {
      "text/plain": [
       "<AxesSubplot:title={'center':'Số lượng thí sinh thi rớt trên từng nhóm giới tính'}, xlabel='GT'>"
      ]
     },
     "execution_count": 71,
     "metadata": {},
     "output_type": "execute_result"
    },
    {
     "data": {
      "image/png": "[encoded data removed]",
      "text/plain": [
       "<Figure size 432x288 with 1 Axes>"
      ]
     },
     "metadata": {
      "needs_background": "light"
     },
     "output_type": "display_data"
    }
   ],
   "source": [
    "data_fail_GT = data[(data[\"KQXT\"] == 0)]\n",
    "plt.title(\"Số lượng thí sinh thi rớt trên từng nhóm giới tính\")\n",
    "data_fail_GT.groupby(\"GT\")[\"GT\"].agg('count').plot.bar()"
   ]
  },
  {
   "cell_type": "markdown",
   "metadata": {},
   "source": [
    "- data[data[\"KQXT\"] == 0] thì thí sinh rớt.\n",
    "- groupby(\"GT\")[\"GT\"].agg('count'): Nhóm các dòng theo cột \"KV\" và tính toán theo cột \"GT\". Dùng hàm \"count\" để đếm số lượng dòng trong mỗi nhóm của cột \"GT\".\n",
    "- plot.bar(): Vẽ biểu đồ cột"
   ]
  },
  {
   "cell_type": "markdown",
   "metadata": {},
   "source": [
    "Phần 4: Trực quan hóa dữ liệu nâng cao"
   ]
  },
  {
   "cell_type": "markdown",
   "metadata": {},
   "source": [
    "1. Vẽ biểu đồ đường Simple cho biến T1"
   ]
  },
  {
   "cell_type": "code",
   "execution_count": 73,
   "metadata": {},
   "outputs": [
    {
     "data": {
      "text/plain": [
       "<AxesSubplot:xlabel='T1'>"
      ]
     },
     "execution_count": 73,
     "metadata": {},
     "output_type": "execute_result"
    },
    {
     "data": {
      "image/png": "[encoded data removed]",
      "text/plain": [
       "<Figure size 432x288 with 1 Axes>"
      ]
     },
     "metadata": {
      "needs_background": "light"
     },
     "output_type": "display_data"
    }
   ],
   "source": [
    "data.groupby('T1')['T1'].count().plot()"
   ]
  },
  {
   "cell_type": "markdown",
   "metadata": {},
   "source": [
    "- groupby('T1'): Nhóm các dòng của DataFrame data theo giá trị trong cột 'T1'.\n",
    "- ['T1']: Chọn cột 'T1' để tính toán.\n",
    "- count(): Áp dụng hàm count để đếm số lượng dòng trong mỗi nhóm của cột 'T1'."
   ]
  },
  {
   "cell_type": "markdown",
   "metadata": {},
   "source": [
    "2. Hãy tạo biến phân loại (phanlopt1) cho môn toán (T1) như sau:\n",
    "a. Từ 0 đến dưới 5 = kém (ký hiệu \"k\") \n",
    "b. Từ 5 đến dưới 7 = trung bình (ký hiệu \"tb\")\n",
    "c. Từ 7 đến dưới 8 = khá (ký hiệu \"k\")\n",
    "d. Từ 8 trở lên = giỏi (ký hiệu \"g\")"
   ]
  },
  {
   "cell_type": "code",
   "execution_count": 75,
   "metadata": {},
   "outputs": [
    {
     "data": {
      "text/html": [
       "<div>\n",
       "<style scoped>\n",
       "    .dataframe tbody tr th:only-of-type {\n",
       "        vertical-align: middle;\n",
       "    }\n",
       "\n",
       "    .dataframe tbody tr th {\n",
       "        vertical-align: top;\n",
       "    }\n",
       "\n",
       "    .dataframe thead th {\n",
       "        text-align: right;\n",
       "    }\n",
       "</style>\n",
       "<table border=\"1\" class=\"dataframe\">\n",
       "  <thead>\n",
       "    <tr style=\"text-align: right;\">\n",
       "      <th></th>\n",
       "      <th>STT</th>\n",
       "      <th>T1</th>\n",
       "      <th>L1</th>\n",
       "      <th>H1</th>\n",
       "      <th>S1</th>\n",
       "      <th>V1</th>\n",
       "      <th>X1</th>\n",
       "      <th>D1</th>\n",
       "      <th>N1</th>\n",
       "      <th>T2</th>\n",
       "      <th>...</th>\n",
       "      <th>TBM2</th>\n",
       "      <th>TBM3</th>\n",
       "      <th>XL1</th>\n",
       "      <th>XL2</th>\n",
       "      <th>XL3</th>\n",
       "      <th>US_TBM1</th>\n",
       "      <th>US_TBM2</th>\n",
       "      <th>US_TBM3</th>\n",
       "      <th>KQXT</th>\n",
       "      <th>phanlopt1</th>\n",
       "    </tr>\n",
       "  </thead>\n",
       "  <tbody>\n",
       "    <tr>\n",
       "      <th>0</th>\n",
       "      <td>1</td>\n",
       "      <td>7.2</td>\n",
       "      <td>7.3</td>\n",
       "      <td>6.3</td>\n",
       "      <td>7.3</td>\n",
       "      <td>7.0</td>\n",
       "      <td>7.9</td>\n",
       "      <td>7.3</td>\n",
       "      <td>5.5</td>\n",
       "      <td>8.4</td>\n",
       "      <td>...</td>\n",
       "      <td>7.54</td>\n",
       "      <td>7.01</td>\n",
       "      <td>K</td>\n",
       "      <td>K</td>\n",
       "      <td>K</td>\n",
       "      <td>2.800</td>\n",
       "      <td>3.016</td>\n",
       "      <td>2.804</td>\n",
       "      <td>0</td>\n",
       "      <td>kha</td>\n",
       "    </tr>\n",
       "    <tr>\n",
       "      <th>1</th>\n",
       "      <td>2</td>\n",
       "      <td>5.4</td>\n",
       "      <td>3.9</td>\n",
       "      <td>3.9</td>\n",
       "      <td>4.0</td>\n",
       "      <td>5.4</td>\n",
       "      <td>5.4</td>\n",
       "      <td>5.3</td>\n",
       "      <td>2.8</td>\n",
       "      <td>6.3</td>\n",
       "      <td>...</td>\n",
       "      <td>5.47</td>\n",
       "      <td>5.07</td>\n",
       "      <td>Y</td>\n",
       "      <td>TB</td>\n",
       "      <td>TB</td>\n",
       "      <td>1.876</td>\n",
       "      <td>2.188</td>\n",
       "      <td>2.028</td>\n",
       "      <td>0</td>\n",
       "      <td>trungbinh</td>\n",
       "    </tr>\n",
       "    <tr>\n",
       "      <th>2</th>\n",
       "      <td>3</td>\n",
       "      <td>5.6</td>\n",
       "      <td>6.8</td>\n",
       "      <td>7.2</td>\n",
       "      <td>7.5</td>\n",
       "      <td>4.3</td>\n",
       "      <td>7.4</td>\n",
       "      <td>5.8</td>\n",
       "      <td>3.2</td>\n",
       "      <td>5.0</td>\n",
       "      <td>...</td>\n",
       "      <td>5.38</td>\n",
       "      <td>6.04</td>\n",
       "      <td>TB</td>\n",
       "      <td>TB</td>\n",
       "      <td>TB</td>\n",
       "      <td>2.308</td>\n",
       "      <td>2.152</td>\n",
       "      <td>2.416</td>\n",
       "      <td>1</td>\n",
       "      <td>trungbinh</td>\n",
       "    </tr>\n",
       "    <tr>\n",
       "      <th>3</th>\n",
       "      <td>4</td>\n",
       "      <td>6.6</td>\n",
       "      <td>6.4</td>\n",
       "      <td>5.3</td>\n",
       "      <td>6.9</td>\n",
       "      <td>5.4</td>\n",
       "      <td>7.3</td>\n",
       "      <td>6.4</td>\n",
       "      <td>5.8</td>\n",
       "      <td>5.1</td>\n",
       "      <td>...</td>\n",
       "      <td>5.20</td>\n",
       "      <td>6.88</td>\n",
       "      <td>TB</td>\n",
       "      <td>TB</td>\n",
       "      <td>K</td>\n",
       "      <td>2.484</td>\n",
       "      <td>2.080</td>\n",
       "      <td>2.752</td>\n",
       "      <td>0</td>\n",
       "      <td>trungbinh</td>\n",
       "    </tr>\n",
       "    <tr>\n",
       "      <th>4</th>\n",
       "      <td>5</td>\n",
       "      <td>6.0</td>\n",
       "      <td>5.0</td>\n",
       "      <td>6.0</td>\n",
       "      <td>7.3</td>\n",
       "      <td>6.5</td>\n",
       "      <td>7.7</td>\n",
       "      <td>7.9</td>\n",
       "      <td>6.1</td>\n",
       "      <td>5.4</td>\n",
       "      <td>...</td>\n",
       "      <td>6.36</td>\n",
       "      <td>6.99</td>\n",
       "      <td>K</td>\n",
       "      <td>TB</td>\n",
       "      <td>K</td>\n",
       "      <td>2.600</td>\n",
       "      <td>2.544</td>\n",
       "      <td>2.796</td>\n",
       "      <td>0</td>\n",
       "      <td>trungbinh</td>\n",
       "    </tr>\n",
       "  </tbody>\n",
       "</table>\n",
       "<p>5 rows × 67 columns</p>\n",
       "</div>"
      ],
      "text/plain": [
       "   STT   T1   L1   H1   S1   V1   X1   D1   N1   T2  ...  TBM2  TBM3  XL1  \\\n",
       "0    1  7.2  7.3  6.3  7.3  7.0  7.9  7.3  5.5  8.4  ...  7.54  7.01    K   \n",
       "1    2  5.4  3.9  3.9  4.0  5.4  5.4  5.3  2.8  6.3  ...  5.47  5.07    Y   \n",
       "2    3  5.6  6.8  7.2  7.5  4.3  7.4  5.8  3.2  5.0  ...  5.38  6.04   TB   \n",
       "3    4  6.6  6.4  5.3  6.9  5.4  7.3  6.4  5.8  5.1  ...  5.20  6.88   TB   \n",
       "4    5  6.0  5.0  6.0  7.3  6.5  7.7  7.9  6.1  5.4  ...  6.36  6.99    K   \n",
       "\n",
       "   XL2  XL3  US_TBM1  US_TBM2  US_TBM3  KQXT  phanlopt1  \n",
       "0    K    K    2.800    3.016    2.804     0        kha  \n",
       "1   TB   TB    1.876    2.188    2.028     0  trungbinh  \n",
       "2   TB   TB    2.308    2.152    2.416     1  trungbinh  \n",
       "3   TB    K    2.484    2.080    2.752     0  trungbinh  \n",
       "4   TB    K    2.600    2.544    2.796     0  trungbinh  \n",
       "\n",
       "[5 rows x 67 columns]"
      ]
     },
     "execution_count": 75,
     "metadata": {},
     "output_type": "execute_result"
    }
   ],
   "source": [
    "data.loc[(data['T1'] < 5), 'phanlopt1'] = 'kem'\n",
    "data.loc[(data['T1'] >= 5) & (data['T1'] < 7), 'phanlopt1'] = 'trungbinh'\n",
    "data.loc[(data['T1'] >= 7) & (data['T1'] < 8), 'phanlopt1'] = 'kha'\n",
    "data.loc[(data['T1'] >= 8), 'phanlopt1'] = 'gioi'\n",
    "data.head(5)"
   ]
  },
  {
   "cell_type": "markdown",
   "metadata": {},
   "source": [
    "- data.loc[(data['T1'] < 5), 'phanlopt1'] = 'kem': Gán nhãn 'kem' cho các dòng trong cột 'phanlopt1' của DataFrame data nếu giá trị trong cột 'T1' nhỏ hơn 5.\n",
    "- data.loc[(data['T1'] >= 5) & (data['T1'] < 7), 'phanlopt1'] = 'trungbinh': Gán nhãn 'trungbinh' cho các dòng trong cột 'phanlopt1' nếu giá trị trong cột 'T1' từ 5 đến dưới 7.\n",
    "- data.loc[(data['T1'] >= 7) & (data['T1'] < 8), 'phanlopt1'] = 'kha': Gán nhãn 'kha' cho các dòng trong cột 'phanlopt1' nếu giá trị trong cột 'T1' từ 7 đến dưới 8.\n",
    "- data.loc[(data['T1'] >= 8), 'phanlopt1'] = 'gioi': Gán nhãn 'gioi' cho các dòng trong cột 'phanlopt1' nếu giá trị trong cột 'T1' lớn hơn hoặc bằng 8."
   ]
  },
  {
   "cell_type": "markdown",
   "metadata": {},
   "source": [
    "3. Lập bảng tần số cho biến phanloait1"
   ]
  },
  {
   "cell_type": "code",
   "execution_count": 79,
   "metadata": {},
   "outputs": [],
   "source": [
    "dfphanlopt1 = data.groupby(['T1', 'phanlopt1'])[['T1', 'phanlopt1']].count()"
   ]
  },
  {
   "cell_type": "markdown",
   "metadata": {},
   "source": [
    "- groupby(['T1', 'phanlopt1']): Nhóm các dòng của DataFrame data theo các giá trị trong cột 'T1' và 'phanlopt1'.\n",
    "- [['T1', 'phanlopt1']]: Chọn các cột 'T1' và 'phanlopt1' để tính toán.\n",
    "- count(): Áp dụng hàm count để đếm số lượng dòng trong mỗi nhóm được tạo bởi các giá trị của 'T1' và 'phanlopt1'."
   ]
  },
  {
   "cell_type": "code",
   "execution_count": 80,
   "metadata": {},
   "outputs": [],
   "source": [
    "unstackphanlopt1 = dfphanlopt1.unstack()"
   ]
  },
  {
   "cell_type": "markdown",
   "metadata": {},
   "source": [
    "- unstack(): Phương thức để chuyển đổi một hoặc nhiều cấp của MultiIndex thành các cột."
   ]
  },
  {
   "cell_type": "code",
   "execution_count": 81,
   "metadata": {},
   "outputs": [
    {
     "data": {
      "text/html": [
       "<div>\n",
       "<style scoped>\n",
       "    .dataframe tbody tr th:only-of-type {\n",
       "        vertical-align: middle;\n",
       "    }\n",
       "\n",
       "    .dataframe tbody tr th {\n",
       "        vertical-align: top;\n",
       "    }\n",
       "\n",
       "    .dataframe thead tr th {\n",
       "        text-align: left;\n",
       "    }\n",
       "\n",
       "    .dataframe thead tr:last-of-type th {\n",
       "        text-align: right;\n",
       "    }\n",
       "</style>\n",
       "<table border=\"1\" class=\"dataframe\">\n",
       "  <thead>\n",
       "    <tr>\n",
       "      <th></th>\n",
       "      <th colspan=\"4\" halign=\"left\">T1</th>\n",
       "      <th colspan=\"4\" halign=\"left\">phanlopt1</th>\n",
       "    </tr>\n",
       "    <tr>\n",
       "      <th>phanlopt1</th>\n",
       "      <th>gioi</th>\n",
       "      <th>kem</th>\n",
       "      <th>kha</th>\n",
       "      <th>trungbinh</th>\n",
       "      <th>gioi</th>\n",
       "      <th>kem</th>\n",
       "      <th>kha</th>\n",
       "      <th>trungbinh</th>\n",
       "    </tr>\n",
       "    <tr>\n",
       "      <th>T1</th>\n",
       "      <th></th>\n",
       "      <th></th>\n",
       "      <th></th>\n",
       "      <th></th>\n",
       "      <th></th>\n",
       "      <th></th>\n",
       "      <th></th>\n",
       "      <th></th>\n",
       "    </tr>\n",
       "  </thead>\n",
       "  <tbody>\n",
       "    <tr>\n",
       "      <th>2.4</th>\n",
       "      <td>NaN</td>\n",
       "      <td>1.0</td>\n",
       "      <td>NaN</td>\n",
       "      <td>NaN</td>\n",
       "      <td>NaN</td>\n",
       "      <td>1.0</td>\n",
       "      <td>NaN</td>\n",
       "      <td>NaN</td>\n",
       "    </tr>\n",
       "    <tr>\n",
       "      <th>2.5</th>\n",
       "      <td>NaN</td>\n",
       "      <td>1.0</td>\n",
       "      <td>NaN</td>\n",
       "      <td>NaN</td>\n",
       "      <td>NaN</td>\n",
       "      <td>1.0</td>\n",
       "      <td>NaN</td>\n",
       "      <td>NaN</td>\n",
       "    </tr>\n",
       "    <tr>\n",
       "      <th>2.6</th>\n",
       "      <td>NaN</td>\n",
       "      <td>1.0</td>\n",
       "      <td>NaN</td>\n",
       "      <td>NaN</td>\n",
       "      <td>NaN</td>\n",
       "      <td>1.0</td>\n",
       "      <td>NaN</td>\n",
       "      <td>NaN</td>\n",
       "    </tr>\n",
       "    <tr>\n",
       "      <th>2.7</th>\n",
       "      <td>NaN</td>\n",
       "      <td>1.0</td>\n",
       "      <td>NaN</td>\n",
       "      <td>NaN</td>\n",
       "      <td>NaN</td>\n",
       "      <td>1.0</td>\n",
       "      <td>NaN</td>\n",
       "      <td>NaN</td>\n",
       "    </tr>\n",
       "    <tr>\n",
       "      <th>2.8</th>\n",
       "      <td>NaN</td>\n",
       "      <td>1.0</td>\n",
       "      <td>NaN</td>\n",
       "      <td>NaN</td>\n",
       "      <td>NaN</td>\n",
       "      <td>1.0</td>\n",
       "      <td>NaN</td>\n",
       "      <td>NaN</td>\n",
       "    </tr>\n",
       "    <tr>\n",
       "      <th>3.0</th>\n",
       "      <td>NaN</td>\n",
       "      <td>2.0</td>\n",
       "      <td>NaN</td>\n",
       "      <td>NaN</td>\n",
       "      <td>NaN</td>\n",
       "      <td>2.0</td>\n",
       "      <td>NaN</td>\n",
       "      <td>NaN</td>\n",
       "    </tr>\n",
       "    <tr>\n",
       "      <th>3.4</th>\n",
       "      <td>NaN</td>\n",
       "      <td>1.0</td>\n",
       "      <td>NaN</td>\n",
       "      <td>NaN</td>\n",
       "      <td>NaN</td>\n",
       "      <td>1.0</td>\n",
       "      <td>NaN</td>\n",
       "      <td>NaN</td>\n",
       "    </tr>\n",
       "    <tr>\n",
       "      <th>3.6</th>\n",
       "      <td>NaN</td>\n",
       "      <td>2.0</td>\n",
       "      <td>NaN</td>\n",
       "      <td>NaN</td>\n",
       "      <td>NaN</td>\n",
       "      <td>2.0</td>\n",
       "      <td>NaN</td>\n",
       "      <td>NaN</td>\n",
       "    </tr>\n",
       "    <tr>\n",
       "      <th>3.7</th>\n",
       "      <td>NaN</td>\n",
       "      <td>1.0</td>\n",
       "      <td>NaN</td>\n",
       "      <td>NaN</td>\n",
       "      <td>NaN</td>\n",
       "      <td>1.0</td>\n",
       "      <td>NaN</td>\n",
       "      <td>NaN</td>\n",
       "    </tr>\n",
       "    <tr>\n",
       "      <th>3.9</th>\n",
       "      <td>NaN</td>\n",
       "      <td>1.0</td>\n",
       "      <td>NaN</td>\n",
       "      <td>NaN</td>\n",
       "      <td>NaN</td>\n",
       "      <td>1.0</td>\n",
       "      <td>NaN</td>\n",
       "      <td>NaN</td>\n",
       "    </tr>\n",
       "  </tbody>\n",
       "</table>\n",
       "</div>"
      ],
      "text/plain": [
       "            T1                    phanlopt1                   \n",
       "phanlopt1 gioi  kem kha trungbinh      gioi  kem kha trungbinh\n",
       "T1                                                            \n",
       "2.4        NaN  1.0 NaN       NaN       NaN  1.0 NaN       NaN\n",
       "2.5        NaN  1.0 NaN       NaN       NaN  1.0 NaN       NaN\n",
       "2.6        NaN  1.0 NaN       NaN       NaN  1.0 NaN       NaN\n",
       "2.7        NaN  1.0 NaN       NaN       NaN  1.0 NaN       NaN\n",
       "2.8        NaN  1.0 NaN       NaN       NaN  1.0 NaN       NaN\n",
       "3.0        NaN  2.0 NaN       NaN       NaN  2.0 NaN       NaN\n",
       "3.4        NaN  1.0 NaN       NaN       NaN  1.0 NaN       NaN\n",
       "3.6        NaN  2.0 NaN       NaN       NaN  2.0 NaN       NaN\n",
       "3.7        NaN  1.0 NaN       NaN       NaN  1.0 NaN       NaN\n",
       "3.9        NaN  1.0 NaN       NaN       NaN  1.0 NaN       NaN"
      ]
     },
     "execution_count": 81,
     "metadata": {},
     "output_type": "execute_result"
    }
   ],
   "source": [
    "unstackphanlopt1.head(10)"
   ]
  },
  {
   "cell_type": "markdown",
   "metadata": {},
   "source": [
    "4. Vẽ biểu đồ đường Multiple Line cho biến T1 được phân loại bởi biến phanlopt1"
   ]
  },
  {
   "cell_type": "code",
   "execution_count": 91,
   "metadata": {},
   "outputs": [
    {
     "data": {
      "text/plain": [
       "<AxesSubplot:xlabel='T1'>"
      ]
     },
     "execution_count": 91,
     "metadata": {},
     "output_type": "execute_result"
    },
    {
     "data": {
      "image/png": "[encoded data removed]",
      "text/plain": [
       "<Figure size 432x288 with 1 Axes>"
      ]
     },
     "metadata": {
      "needs_background": "light"
     },
     "output_type": "display_data"
    }
   ],
   "source": [
    "unstackphanlopt1['phanlopt1'].plot.bar()"
   ]
  },
  {
   "cell_type": "markdown",
   "metadata": {},
   "source": [
    "- unstackphanlopt1['phanlopt1']: Chọn cột 'phanlopt1' từ DataFrame unstackphanlopt1. Đây là các cột được tạo ra sau khi unstack từ MultiIndex của DataFrame dfphanlopt1.\n",
    "- plot.bar(): Phương thức để vẽ biểu đồ cột (bar chart) dựa trên dữ liệu của cột 'phanlopt1'."
   ]
  },
  {
   "cell_type": "markdown",
   "metadata": {},
   "source": [
    "5. Vẽ biểu đồ Drop-line cho biến T1 được phân loại bởi biến phanlopt1"
   ]
  },
  {
   "cell_type": "code",
   "execution_count": 90,
   "metadata": {},
   "outputs": [
    {
     "data": {
      "image/png": "[encoded data removed]",
      "text/plain": [
       "<Figure size 720x432 with 1 Axes>"
      ]
     },
     "metadata": {
      "needs_background": "light"
     },
     "output_type": "display_data"
    }
   ],
   "source": [
    "plt.figure(figsize=(10, 6))\n",
    "\n",
    "for category in data['phanlopt1'].unique():\n",
    "    subset = data[data['phanlopt1'] == category]\n",
    "    plt.plot(subset['T1'], 'o-', label=f'Phân loại {category}')\n",
    "\n",
    "\n",
    "plt.title('Biểu đồ Drop-line cho biến T1 phân loại bởi biến phanlopt1')\n",
    "plt.xlabel('Index')\n",
    "plt.ylabel('T1')\n",
    "plt.legend(title='Phân loại')\n",
    "plt.show()\n"
   ]
  }
 ],
 "metadata": {
  "kernelspec": {
   "display_name": "Python 3",
   "language": "python",
   "name": "python3"
  },
  "language_info": {
   "codemirror_mode": {
    "name": "ipython",
    "version": 3
   },
   "file_extension": ".py",
   "mimetype": "text/x-python",
   "name": "python",
   "nbconvert_exporter": "python",
   "pygments_lexer": "ipython3",
   "version": "3.9.7"
  }
 },
 "nbformat": 4,
 "nbformat_minor": 2
}
